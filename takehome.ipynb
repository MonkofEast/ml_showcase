{
 "cells": [
  {
   "cell_type": "markdown",
   "metadata": {},
   "source": [
    "# 0. Summary"
   ]
  },
  {
   "cell_type": "markdown",
   "metadata": {},
   "source": [
    "1. The target is to predict the age of 100k linkedin users;\n",
    "2. A optimized random forest model based on desiganted \"ground truth\" set and extracted features can have a reasonable prediction outcome;\n",
    "3. 'startdate' might be a better feature source than 'enddate';\n",
    "4. Combining the whole data sets (education, positions, seniority) before establishing models might be better than establishing models before combining them;\n",
    "5. The text in 'major', education has potential to upgrade the prediction accuracy;\n",
    "6. The text in 'jobtitle', positions has greater potential to upgrade the prediction accuracy;\n",
    "7. From this draft, we can still improve our prediction in multiple aspects.\n",
    "\n",
    "For prediction results, please check the \"res.csv\" file."
   ]
  },
  {
   "cell_type": "markdown",
   "metadata": {},
   "source": [
    "# 1. Objects Definitions & Core Assumptions\n",
    "\n",
    "Before getting our hands dirty, we should define accurately what we want from these dataset:"
   ]
  },
  {
   "cell_type": "markdown",
   "metadata": {},
   "source": [
    "## 1.1. Definitions\n",
    "1. Profit goal: suppose we want to have a better understanding on users' age, so we can provide more accurate marketing/recommandation service strategies.\n",
    "2. Age: Since we don't have exact age number and we need to create training set ourself, it's not reasonable to predict accurate age number from somehow randomly allocated age. Instead, age ranges are better choices.\n",
    "   \n",
    "   > Specifically, the definition of the 7 age ranges are:\n",
    "   >\n",
    "   > Label | range\n",
    "   >\n",
    "   >    1 | 18-24\n",
    "   >\n",
    "   >    2 | 24-30\n",
    "   >\n",
    "   >    3 | 30-36\n",
    "   >\n",
    "   >    4 | 36-42\n",
    "   >\n",
    "   >    5 | 42-48\n",
    "   >\n",
    "   >    6 | 48-54\n",
    "   >\n",
    "   >    7 | 54-60\n",
    "\n",
    "   Starting at 18, stopping at 60 since I suppose the marketing target should be the population who is still active in job market.\n",
    "\n",
    "   Besides, if the information in a row is too little to use, they will be grouped to \"-1\", which indicates \"Don't know\"."
   ]
  },
  {
   "cell_type": "markdown",
   "metadata": {},
   "source": [
    "## 1.2. Aassumptions\n",
    "1. The earliest reasonable education start date is a very good basis in determining a person's age;\n",
    "2. The lowest acceptable degree is high school;\n",
    "3. The starting age of a person's first degree is 14 (considering the first degree might be high school);\n",
    "4. This means we only consider data points with starting points no earlier than 1976.1.1;\n",
    "5. By inferring, the person's age should be in our target 7-range;\n",
    "6. A person must have a reasonable 'major' (not \"god\", \"budda\", etc);\n",
    "7. Lack of 'major' is acceptable if the time duration is \"reasonable\";\n",
    "8. A \"reasonable\" time duration of a 'major\" means no smaller than 6-month, and no bigger than 10-year (120-month) considering there are super short master's degree, various reasons to for gapping years, and phD's, etc.;\n",
    "9. The education major text contains information about a person's age.\n",
    "10. The job title text contians information about a person's age."
   ]
  },
  {
   "cell_type": "markdown",
   "metadata": {},
   "source": [
    "## 1.3. Furthermore\n",
    "\n",
    "For 'major' in education dateset, we assume: \n",
    "1. All non-English 'major' will be regarded as translated already since I don't have the compuational power or time to actual translate them.\n",
    "\n",
    "For 'jobtitle' in position dataset, we assume:\n",
    "1. All problems in text which are similar to 'major' has been correctly coped with."
   ]
  },
  {
   "cell_type": "markdown",
   "metadata": {},
   "source": [
    "# 2. Data Exploration"
   ]
  },
  {
   "cell_type": "code",
   "execution_count": 1,
   "metadata": {},
   "outputs": [],
   "source": [
    "import numpy as np\n",
    "import pandas as pd\n",
    "import matplotlib.pyplot as plt\n",
    "import seaborn as sns\n",
    "\n",
    "import re\n",
    "\n",
    "import googletrans\n",
    "from googletrans import Translator\n",
    "\n",
    "import warnings\n",
    "warnings.filterwarnings('ignore')\n",
    "\n",
    "sns.set_style('darkgrid')\n",
    "%matplotlib inline"
   ]
  },
  {
   "cell_type": "code",
   "execution_count": 2,
   "metadata": {},
   "outputs": [],
   "source": [
    "education = pd.read_csv('education.csv')\n",
    "seniority = pd.read_csv('jobtitle_seniority.csv')\n",
    "position = pd.read_csv('positions.csv')"
   ]
  },
  {
   "cell_type": "markdown",
   "metadata": {},
   "source": [
    "## 2.1.  Data Cleaning"
   ]
  },
  {
   "cell_type": "markdown",
   "metadata": {},
   "source": [
    "Goal\n",
    "1. Want 1 row/observation (removing duplications)\n",
    "2. Most models cannot handle missing data (need to remove/fill)\n",
    "3. Most models require fixed length feature vectors (engineer features)"
   ]
  },
  {
   "cell_type": "markdown",
   "metadata": {},
   "source": [
    "## 2.2. Education Data"
   ]
  },
  {
   "cell_type": "markdown",
   "metadata": {},
   "source": [
    "### 2.2.1. Check the original structure"
   ]
  },
  {
   "cell_type": "code",
   "execution_count": 3,
   "metadata": {},
   "outputs": [
    {
     "name": "stdout",
     "output_type": "stream",
     "text": [
      "<class 'pandas.core.frame.DataFrame'>\n",
      "RangeIndex: 226184 entries, 0 to 226183\n",
      "Data columns (total 4 columns):\n",
      " #   Column     Non-Null Count   Dtype \n",
      "---  ------     --------------   ----- \n",
      " 0   user_id    226184 non-null  object\n",
      " 1   major      162346 non-null  object\n",
      " 2   startdate  197556 non-null  object\n",
      " 3   enddate    190658 non-null  object\n",
      "dtypes: object(4)\n",
      "memory usage: 6.9+ MB\n",
      "None\n"
     ]
    }
   ],
   "source": [
    "education_copy = education.copy()\n",
    "print(education_copy.info())\n",
    "#education.iloc[:10]"
   ]
  },
  {
   "cell_type": "markdown",
   "metadata": {},
   "source": [
    "### 2.2.2. Regulate the data type"
   ]
  },
  {
   "cell_type": "code",
   "execution_count": 4,
   "metadata": {},
   "outputs": [
    {
     "name": "stdout",
     "output_type": "stream",
     "text": [
      "<class 'pandas.core.frame.DataFrame'>\n",
      "RangeIndex: 226184 entries, 0 to 226183\n",
      "Data columns (total 4 columns):\n",
      " #   Column     Non-Null Count   Dtype         \n",
      "---  ------     --------------   -----         \n",
      " 0   user_id    226184 non-null  object        \n",
      " 1   major      162346 non-null  object        \n",
      " 2   startdate  197556 non-null  datetime64[ns]\n",
      " 3   enddate    190658 non-null  datetime64[ns]\n",
      "dtypes: datetime64[ns](2), object(2)\n",
      "memory usage: 6.9+ MB\n",
      "None\n"
     ]
    },
    {
     "data": {
      "text/html": [
       "<div>\n",
       "<style scoped>\n",
       "    .dataframe tbody tr th:only-of-type {\n",
       "        vertical-align: middle;\n",
       "    }\n",
       "\n",
       "    .dataframe tbody tr th {\n",
       "        vertical-align: top;\n",
       "    }\n",
       "\n",
       "    .dataframe thead th {\n",
       "        text-align: right;\n",
       "    }\n",
       "</style>\n",
       "<table border=\"1\" class=\"dataframe\">\n",
       "  <thead>\n",
       "    <tr style=\"text-align: right;\">\n",
       "      <th></th>\n",
       "      <th>user_id</th>\n",
       "      <th>major</th>\n",
       "      <th>startdate</th>\n",
       "      <th>enddate</th>\n",
       "    </tr>\n",
       "  </thead>\n",
       "  <tbody>\n",
       "    <tr>\n",
       "      <th>0</th>\n",
       "      <td>hqSv727UD4f0Cr8QyA8+8g5+2cvffV/mNepQVJd0smgtpB...</td>\n",
       "      <td>master of viticulture</td>\n",
       "      <td>2006-01-01</td>\n",
       "      <td>2008-01-01</td>\n",
       "    </tr>\n",
       "    <tr>\n",
       "      <th>1</th>\n",
       "      <td>hqSv727UD4f0Cr8QyA8+8g5+2cvffV/mNepQVJd0smgtpB...</td>\n",
       "      <td>bachelor of horticulture</td>\n",
       "      <td>2001-01-01</td>\n",
       "      <td>2005-01-01</td>\n",
       "    </tr>\n",
       "    <tr>\n",
       "      <th>2</th>\n",
       "      <td>hqSv727UD4f0Cr8QyA8+8g5+2cvffV/mNepQVJd0smgtpB...</td>\n",
       "      <td>wset level</td>\n",
       "      <td>2015-01-01</td>\n",
       "      <td>2015-01-01</td>\n",
       "    </tr>\n",
       "    <tr>\n",
       "      <th>3</th>\n",
       "      <td>hqSv727UD4f0Cr8QyA8+8g5+2cvffV/mNepQVJd0smgtpB...</td>\n",
       "      <td>graduated diploma</td>\n",
       "      <td>2008-01-01</td>\n",
       "      <td>2009-01-01</td>\n",
       "    </tr>\n",
       "    <tr>\n",
       "      <th>4</th>\n",
       "      <td>H2fZcOtCvd7DXFbzglIkpA5+2cvffV/mNepQVJd0smgtpB...</td>\n",
       "      <td>ling  stica aplicada en la ense anza del ingl ...</td>\n",
       "      <td>2013-01-01</td>\n",
       "      <td>2016-01-01</td>\n",
       "    </tr>\n",
       "    <tr>\n",
       "      <th>5</th>\n",
       "      <td>H2fZcOtCvd7DXFbzglIkpA5+2cvffV/mNepQVJd0smgtpB...</td>\n",
       "      <td>licenciado en lenguas extranjeras</td>\n",
       "      <td>2005-01-01</td>\n",
       "      <td>2012-01-01</td>\n",
       "    </tr>\n",
       "    <tr>\n",
       "      <th>6</th>\n",
       "      <td>3VRjfXobf5CYummRNRjRlw5+2cvffV/mNepQVJd0smgtpB...</td>\n",
       "      <td>NaN</td>\n",
       "      <td>2012-01-01</td>\n",
       "      <td>2013-01-01</td>\n",
       "    </tr>\n",
       "    <tr>\n",
       "      <th>7</th>\n",
       "      <td>3VRjfXobf5CYummRNRjRlw5+2cvffV/mNepQVJd0smgtpB...</td>\n",
       "      <td>master of business administration  m b a</td>\n",
       "      <td>2010-01-01</td>\n",
       "      <td>2015-01-01</td>\n",
       "    </tr>\n",
       "    <tr>\n",
       "      <th>8</th>\n",
       "      <td>shgvmeKu1Kqqi5LFqdMXsA5+2cvffV/mNepQVJd0smgtpB...</td>\n",
       "      <td>ba</td>\n",
       "      <td>2008-01-01</td>\n",
       "      <td>2012-01-01</td>\n",
       "    </tr>\n",
       "    <tr>\n",
       "      <th>9</th>\n",
       "      <td>shgvmeKu1Kqqi5LFqdMXsA5+2cvffV/mNepQVJd0smgtpB...</td>\n",
       "      <td>master s degree</td>\n",
       "      <td>2014-01-01</td>\n",
       "      <td>2016-01-01</td>\n",
       "    </tr>\n",
       "  </tbody>\n",
       "</table>\n",
       "</div>"
      ],
      "text/plain": [
       "                                             user_id  \\\n",
       "0  hqSv727UD4f0Cr8QyA8+8g5+2cvffV/mNepQVJd0smgtpB...   \n",
       "1  hqSv727UD4f0Cr8QyA8+8g5+2cvffV/mNepQVJd0smgtpB...   \n",
       "2  hqSv727UD4f0Cr8QyA8+8g5+2cvffV/mNepQVJd0smgtpB...   \n",
       "3  hqSv727UD4f0Cr8QyA8+8g5+2cvffV/mNepQVJd0smgtpB...   \n",
       "4  H2fZcOtCvd7DXFbzglIkpA5+2cvffV/mNepQVJd0smgtpB...   \n",
       "5  H2fZcOtCvd7DXFbzglIkpA5+2cvffV/mNepQVJd0smgtpB...   \n",
       "6  3VRjfXobf5CYummRNRjRlw5+2cvffV/mNepQVJd0smgtpB...   \n",
       "7  3VRjfXobf5CYummRNRjRlw5+2cvffV/mNepQVJd0smgtpB...   \n",
       "8  shgvmeKu1Kqqi5LFqdMXsA5+2cvffV/mNepQVJd0smgtpB...   \n",
       "9  shgvmeKu1Kqqi5LFqdMXsA5+2cvffV/mNepQVJd0smgtpB...   \n",
       "\n",
       "                                               major  startdate    enddate  \n",
       "0                              master of viticulture 2006-01-01 2008-01-01  \n",
       "1                           bachelor of horticulture 2001-01-01 2005-01-01  \n",
       "2                                       wset level   2015-01-01 2015-01-01  \n",
       "3                                  graduated diploma 2008-01-01 2009-01-01  \n",
       "4  ling  stica aplicada en la ense anza del ingl ... 2013-01-01 2016-01-01  \n",
       "5                  licenciado en lenguas extranjeras 2005-01-01 2012-01-01  \n",
       "6                                                NaN 2012-01-01 2013-01-01  \n",
       "7         master of business administration  m b a   2010-01-01 2015-01-01  \n",
       "8                                                 ba 2008-01-01 2012-01-01  \n",
       "9                                    master s degree 2014-01-01 2016-01-01  "
      ]
     },
     "execution_count": 4,
     "metadata": {},
     "output_type": "execute_result"
    }
   ],
   "source": [
    "#education_copy['user_id'] = education_copy['user_id'].astype(str)\n",
    "education_copy['major'] = education_copy['major'].str.lower()\n",
    "education_copy['major'] = education_copy['major'].str.replace('[^a-zA-Z\\s]', ' ')\n",
    "education_copy['startdate'] = pd.to_datetime(education_copy['startdate'])\n",
    "education_copy['enddate'] = pd.to_datetime(education_copy['enddate'])\n",
    "print(education_copy.info())\n",
    "#education_copy.sort_values(['major']).iloc[:10]\n",
    "education_copy.iloc[:10]"
   ]
  },
  {
   "cell_type": "markdown",
   "metadata": {},
   "source": [
    "### 2.2.3. Unreasonable data\n",
    "\n",
    "According to our definitons and assumptions, there might be many unreasonable data:\n",
    "1. Started education before80.1.1;\n",
    "2. End date is earlier than start date;\n",
    "3. Education duration is too long (>120-month or <6-month);\n",
    "4. Major is rediculous (god, budda, king, president of US, etc.), this problem will be handled in feature engineering."
   ]
  },
  {
   "cell_type": "markdown",
   "metadata": {},
   "source": [
    "Drop started education before 1976.1.1"
   ]
  },
  {
   "cell_type": "code",
   "execution_count": 5,
   "metadata": {},
   "outputs": [],
   "source": [
    "education_clean = education_copy[~(education_copy['startdate'] < '1976-01-01')]\n",
    "#education_clean.sort_values(['startdate']).iloc[:10]\n",
    "#print(education_clean.info())"
   ]
  },
  {
   "cell_type": "markdown",
   "metadata": {},
   "source": [
    "Drop enddate > startdate OR education duration too long"
   ]
  },
  {
   "cell_type": "code",
   "execution_count": 6,
   "metadata": {},
   "outputs": [],
   "source": [
    "education_clean['duration'] = education_clean['enddate'] - education_clean['startdate']\n",
    "# suppose 1-month is 30-day\n",
    "# and 1-year is 365-day\n",
    "education_clean = education_clean[~(education_clean['duration'] < pd.Timedelta(\"180 days\"))]\n",
    "education_clean = education_clean[~(education_clean['duration'] > pd.Timedelta(\"3650 days\"))]\n",
    "#education_clean.sort_values(['duration']).iloc[:30]\n",
    "#print(education_clean.info())"
   ]
  },
  {
   "cell_type": "markdown",
   "metadata": {},
   "source": [
    "### 2.2.4. Duplication\n",
    "\n",
    "It's reasonable for a person to have multiple educational experience. But completely identical education background is meaningless.\n",
    "\n",
    "Let's check about it."
   ]
  },
  {
   "cell_type": "markdown",
   "metadata": {},
   "source": [
    "Drop duplications. Keep the first data if there are duplications."
   ]
  },
  {
   "cell_type": "code",
   "execution_count": 7,
   "metadata": {},
   "outputs": [
    {
     "name": "stdout",
     "output_type": "stream",
     "text": [
      "(185502, 5)\n"
     ]
    }
   ],
   "source": [
    "education_dups = education_clean.drop_duplicates(subset=None, keep='first', inplace=False)\n",
    "print(education_dups.shape)"
   ]
  },
  {
   "cell_type": "markdown",
   "metadata": {},
   "source": [
    "### 2.2.5. Missing Data\n",
    "\n",
    "Missing data here can be tricky. There are several ways to deal with it:\n",
    "1. Drop rows;\n",
    "2. Impute from data in the same column\n",
    "3. Infer from other features\n",
    "4. Fill with adjacent data\n",
    "\n",
    "For 'major' and 'date', impute, infer, and fill are all meaningless. So we drop. Dropping is easy to do and simple to understand. But we may face potentially large data loss.\n",
    "\n",
    "But I summarized some cases:\n",
    "1. If only 'major' is missing, we can stand it since the 'startdate' and 'enddate' may still reveal information about one's educational status.\n",
    "2. If only one of 'startdate' or 'enddate' is missing, wo do not drop since one's education may still undergo.\n",
    "3. If 'major' remains, but 'startdate' and/or 'enddate' are/is missing, we do not drop since the 'major' may still reveal information about one'e educational history.\n",
    "\n",
    "In a word, we drop when:\n",
    "1. Every thing is missing;\n",
    "2. 'major', 'startdate', and 'enddate' are all NA.\n",
    "\n",
    "Also, a reasonable assumption of end date is, if the end date is NA, we regard it as still ongoing, so we set it to today's date."
   ]
  },
  {
   "cell_type": "markdown",
   "metadata": {},
   "source": [
    "Before dropping, let's check the data loss first:"
   ]
  },
  {
   "cell_type": "code",
   "execution_count": 8,
   "metadata": {},
   "outputs": [
    {
     "name": "stdout",
     "output_type": "stream",
     "text": [
      "user_id          0\n",
      "major        49249\n",
      "startdate    24651\n",
      "enddate      30784\n",
      "duration     32182\n",
      "dtype: int64\n",
      "136866\n"
     ]
    }
   ],
   "source": [
    "print(education_dups.isna().sum())\n",
    "print(education_dups.isna().sum().sum())"
   ]
  },
  {
   "cell_type": "code",
   "execution_count": 9,
   "metadata": {},
   "outputs": [
    {
     "name": "stdout",
     "output_type": "stream",
     "text": [
      "(159465, 5)\n"
     ]
    }
   ],
   "source": [
    "print(education_dups.dropna(subset=['major', 'startdate', 'enddate'], thresh=2).shape)"
   ]
  },
  {
   "cell_type": "markdown",
   "metadata": {},
   "source": [
    "Acceptable, we still have almost 160k rows."
   ]
  },
  {
   "cell_type": "code",
   "execution_count": 10,
   "metadata": {},
   "outputs": [],
   "source": [
    "education_dups_na = education_dups.dropna(subset=['major', 'startdate', 'enddate'], thresh=2)"
   ]
  },
  {
   "cell_type": "markdown",
   "metadata": {},
   "source": [
    "Fill all nan major to placeholder"
   ]
  },
  {
   "cell_type": "code",
   "execution_count": 11,
   "metadata": {},
   "outputs": [],
   "source": [
    "education_dups_na.major.fillna('placeholder', inplace=True)"
   ]
  },
  {
   "cell_type": "markdown",
   "metadata": {},
   "source": [
    "### 2.2.6. Split datetime to year/month/day:\n",
    "\n",
    "A common preprocessing to deal with datetime is to split them into y/m/d."
   ]
  },
  {
   "cell_type": "code",
   "execution_count": 12,
   "metadata": {},
   "outputs": [],
   "source": [
    "education_dups_na[\"start_year\"] = education_dups_na['startdate'].map(lambda x: x.year)\n",
    "education_dups_na[\"start_month\"] = education_dups_na['startdate'].map(lambda x: x.month)\n",
    "education_dups_na[\"start_day\"] = education_dups_na['startdate'].map(lambda x: x.day)\n",
    "\n",
    "education_dups_na[\"end_year\"] = education_dups_na['enddate'].map(lambda x: x.year)\n",
    "education_dups_na[\"end_month\"] = education_dups_na['enddate'].map(lambda x: x.month)\n",
    "education_dups_na[\"end_day\"] = education_dups_na['enddate'].map(lambda x: x.day)\n",
    "\n",
    "education_dups_na_split = education_dups_na\n",
    "\n",
    "#print(education_dups_na_split.info())"
   ]
  },
  {
   "cell_type": "code",
   "execution_count": 13,
   "metadata": {},
   "outputs": [],
   "source": [
    "education_new = education_dups_na_split\n",
    "#education_new.sort_values('startdate')"
   ]
  },
  {
   "cell_type": "markdown",
   "metadata": {},
   "source": [
    "## 2.3. Seniority Data"
   ]
  },
  {
   "cell_type": "markdown",
   "metadata": {},
   "source": [
    "### 2.3.1. Check the original structure"
   ]
  },
  {
   "cell_type": "code",
   "execution_count": 14,
   "metadata": {},
   "outputs": [
    {
     "name": "stdout",
     "output_type": "stream",
     "text": [
      "<class 'pandas.core.frame.DataFrame'>\n",
      "RangeIndex: 416295 entries, 0 to 416294\n",
      "Data columns (total 3 columns):\n",
      " #   Column     Non-Null Count   Dtype  \n",
      "---  ------     --------------   -----  \n",
      " 0   user_id    416295 non-null  object \n",
      " 1   jobtitle   414290 non-null  object \n",
      " 2   seniority  416295 non-null  float64\n",
      "dtypes: float64(1), object(2)\n",
      "memory usage: 9.5+ MB\n",
      "None\n"
     ]
    }
   ],
   "source": [
    "seniority_copy = seniority.copy()\n",
    "print(seniority_copy.info())"
   ]
  },
  {
   "cell_type": "markdown",
   "metadata": {},
   "source": [
    "### 2.3.2. Duplication\n",
    "There is no duplication."
   ]
  },
  {
   "cell_type": "code",
   "execution_count": 15,
   "metadata": {},
   "outputs": [
    {
     "name": "stdout",
     "output_type": "stream",
     "text": [
      "<class 'pandas.core.frame.DataFrame'>\n",
      "Int64Index: 0 entries\n",
      "Data columns (total 3 columns):\n",
      " #   Column     Non-Null Count  Dtype  \n",
      "---  ------     --------------  -----  \n",
      " 0   user_id    0 non-null      object \n",
      " 1   jobtitle   0 non-null      object \n",
      " 2   seniority  0 non-null      float64\n",
      "dtypes: float64(1), object(2)\n",
      "memory usage: 0.0+ bytes\n",
      "None\n"
     ]
    }
   ],
   "source": [
    "print(seniority_copy[seniority_copy.duplicated(keep=False)].info())"
   ]
  },
  {
   "cell_type": "markdown",
   "metadata": {},
   "source": [
    "### 2.3.3. Missing Data"
   ]
  },
  {
   "cell_type": "code",
   "execution_count": 16,
   "metadata": {},
   "outputs": [
    {
     "name": "stdout",
     "output_type": "stream",
     "text": [
      "user_id         0\n",
      "jobtitle     2005\n",
      "seniority       0\n",
      "dtype: int64\n",
      "2005\n"
     ]
    }
   ],
   "source": [
    "print(seniority_copy.isna().sum())\n",
    "print(seniority_copy.isna().sum().sum())"
   ]
  },
  {
   "cell_type": "markdown",
   "metadata": {},
   "source": [
    "NAs only appears in 'jobtitle'. We can still get information from the seniority numbers. So we keep all the original data."
   ]
  },
  {
   "cell_type": "code",
   "execution_count": 17,
   "metadata": {},
   "outputs": [],
   "source": [
    "seniority_new = seniority_copy"
   ]
  },
  {
   "cell_type": "markdown",
   "metadata": {},
   "source": [
    "## 2.4. Position Data"
   ]
  },
  {
   "cell_type": "markdown",
   "metadata": {},
   "source": [
    "### 2.4.1. Check the original structures:"
   ]
  },
  {
   "cell_type": "code",
   "execution_count": 18,
   "metadata": {},
   "outputs": [
    {
     "name": "stdout",
     "output_type": "stream",
     "text": [
      "<class 'pandas.core.frame.DataFrame'>\n",
      "RangeIndex: 377585 entries, 0 to 377584\n",
      "Data columns (total 4 columns):\n",
      " #   Column     Non-Null Count   Dtype \n",
      "---  ------     --------------   ----- \n",
      " 0   user_id    377585 non-null  object\n",
      " 1   jobtitle   376136 non-null  object\n",
      " 2   startdate  368526 non-null  object\n",
      " 3   enddate    270354 non-null  object\n",
      "dtypes: object(4)\n",
      "memory usage: 11.5+ MB\n",
      "None\n"
     ]
    }
   ],
   "source": [
    "position_copy = position.copy()\n",
    "print(position_copy.info())"
   ]
  },
  {
   "cell_type": "markdown",
   "metadata": {},
   "source": [
    "### 2.4.2. Regulate the data type:"
   ]
  },
  {
   "cell_type": "code",
   "execution_count": 19,
   "metadata": {},
   "outputs": [],
   "source": [
    "#position_copy['user_id'] = position_copy['user_id'].astype(str)\n",
    "#position_copy['jobtitle'] = position_copy['jobtitle'].astype(str).str.lower()\n",
    "position_copy['startdate'] = pd.to_datetime(position_copy['startdate'])\n",
    "position_copy['enddate'] = pd.to_datetime(position_copy['enddate'])\n",
    "#print(position_copy.info())\n",
    "#position_copy.iloc[:30]"
   ]
  },
  {
   "cell_type": "markdown",
   "metadata": {},
   "source": [
    "### 2.4.3. Unreasonable Data"
   ]
  },
  {
   "cell_type": "markdown",
   "metadata": {},
   "source": [
    "A job can not start before 1976.1.1"
   ]
  },
  {
   "cell_type": "code",
   "execution_count": 20,
   "metadata": {},
   "outputs": [],
   "source": [
    "position_clean = position_copy[~(position_copy['startdate'] < '1976-01-01')]\n",
    "#print(position_clean.info())\n",
    "#position_clean.sort_values(['startdate']).iloc[:10]"
   ]
  },
  {
   "cell_type": "markdown",
   "metadata": {},
   "source": [
    "Suppose a job at least last for 30 days, last no more than 60-year (since 'jobtitle' can be like 'owner')"
   ]
  },
  {
   "cell_type": "code",
   "execution_count": 21,
   "metadata": {},
   "outputs": [],
   "source": [
    "position_clean['duration'] = position_clean['enddate'] - position_clean['startdate']\n",
    "# suppose 1-month is 30-day\n",
    "# and 1-year is 365-day\n",
    "position_clean = position_clean[~(position_clean['duration'] < pd.Timedelta(\"30 days\"))]\n",
    "position_clean = position_clean[~(position_clean['duration'] > pd.Timedelta(\"21600 days\"))]\n",
    "#position_clean.sort_values(['user_id', 'duration'], ascending=False).iloc[:30]\n",
    "#print(position_clean.info())"
   ]
  },
  {
   "cell_type": "markdown",
   "metadata": {},
   "source": [
    "### 2.4.4. Duplications"
   ]
  },
  {
   "cell_type": "code",
   "execution_count": 22,
   "metadata": {},
   "outputs": [
    {
     "name": "stdout",
     "output_type": "stream",
     "text": [
      "<class 'pandas.core.frame.DataFrame'>\n",
      "Int64Index: 0 entries\n",
      "Data columns (total 4 columns):\n",
      " #   Column     Non-Null Count  Dtype         \n",
      "---  ------     --------------  -----         \n",
      " 0   user_id    0 non-null      object        \n",
      " 1   jobtitle   0 non-null      object        \n",
      " 2   startdate  0 non-null      datetime64[ns]\n",
      " 3   enddate    0 non-null      datetime64[ns]\n",
      "dtypes: datetime64[ns](2), object(2)\n",
      "memory usage: 0.0+ bytes\n",
      "None\n"
     ]
    }
   ],
   "source": [
    "print(position_copy[position_copy.duplicated(keep=False)].info())"
   ]
  },
  {
   "cell_type": "markdown",
   "metadata": {},
   "source": [
    "There is no duplication."
   ]
  },
  {
   "cell_type": "markdown",
   "metadata": {},
   "source": [
    "### 2.4.5. Missing Data\n",
    "\n",
    "Similar to education data, for 'jobtitle' and 'date', impute, infer, and fill are all meaningless. So we drop. Dropping is easy to do and simple to understand. But we may face potentially large data loss.\n",
    "\n",
    "Summarized some cases:\n",
    "1. If only 'jobtitle' is missing, we can stand it since the 'startdate' and 'enddate' may still reveal information about one's educational status.\n",
    "2. If only one of 'startdate' or 'enddate' is missing, wo do not drop since one's education may still undergo.\n",
    "3. If 'jobtitle' remains, but 'startdate' and/or 'enddate' are/is missing, we do not drop since the 'jobtitle' may still reveal information about one'e educational history.\n",
    "\n",
    "In a word, we drop when:\n",
    "1. Every thing is missing;\n",
    "2. 'jobtitle', 'startdate', and 'enddate' are all NA."
   ]
  },
  {
   "cell_type": "code",
   "execution_count": 23,
   "metadata": {},
   "outputs": [
    {
     "name": "stdout",
     "output_type": "stream",
     "text": [
      "user_id           0\n",
      "jobtitle       1449\n",
      "startdate      9059\n",
      "enddate      107231\n",
      "dtype: int64\n",
      "117739\n"
     ]
    }
   ],
   "source": [
    "print(position_copy.isna().sum())\n",
    "print(position_copy.isna().sum().sum())"
   ]
  },
  {
   "cell_type": "markdown",
   "metadata": {},
   "source": [
    "Still got almost 370k data. Acceptable."
   ]
  },
  {
   "cell_type": "code",
   "execution_count": 24,
   "metadata": {},
   "outputs": [
    {
     "name": "stdout",
     "output_type": "stream",
     "text": [
      "(368297, 4)\n",
      "(368297, 4)\n"
     ]
    }
   ],
   "source": [
    "print(position_copy.dropna(subset=['jobtitle', 'startdate', 'enddate'], thresh=2).shape)\n",
    "position_na = position_copy.dropna(subset=['jobtitle', 'startdate', 'enddate'], inplace=False, thresh=2)\n",
    "print(position_na.shape)\n",
    "position_new = position_na"
   ]
  },
  {
   "cell_type": "markdown",
   "metadata": {},
   "source": [
    "## 2.5. Combine 3 tables based on user_id"
   ]
  },
  {
   "cell_type": "markdown",
   "metadata": {},
   "source": [
    "### 2.5.1. Draw information from education"
   ]
  },
  {
   "cell_type": "code",
   "execution_count": 25,
   "metadata": {},
   "outputs": [],
   "source": [
    "set1 = set(education_new.loc[:, 'user_id'])\n",
    "#print(len(set1))\n",
    "set2 = set(seniority_new.loc[:, 'user_id'])\n",
    "#print(len(set2))\n",
    "set3 = set(position_new.loc[:, 'user_id'])\n",
    "#print(len(set3))\n",
    "id_set = set1 | set2 | set3\n",
    "\n",
    "linkedin = pd.DataFrame(data={'user_id': pd.Series(list(id_set))})"
   ]
  },
  {
   "cell_type": "code",
   "execution_count": 26,
   "metadata": {},
   "outputs": [],
   "source": [
    "# Find the number of education of each user_id\n",
    "cnt = education_new.groupby('user_id').count().major\n",
    "\n",
    "# Find earliest startdate/enddate and latest startdate/enddate\n",
    "earliest_learn = education_new.sort_values('startdate').groupby('user_id').head(1).sort_index()[['user_id', 'startdate']]\n",
    "latest_learn = education_new.sort_values('startdate').groupby('user_id').tail(1).sort_index()[['user_id', 'startdate']]\n",
    "earliest_grad = education_new.sort_values('enddate').groupby('user_id').head(1).sort_index()[['user_id', 'enddate']]\n",
    "latest_grad = education_new.sort_values('enddate').groupby('user_id').tail(1).sort_index()[['user_id', 'enddate']]\n",
    "earliest_learn = earliest_learn.rename(columns={'startdate': 'earliest_learn'})\n",
    "earliest_grad = earliest_grad.rename(columns={'enddate': 'earliest_grad'})\n",
    "latest_learn = latest_learn.rename(columns={'startdate': 'latest_learn'})\n",
    "latest_grad = latest_grad.rename(columns={'enddate': 'latest_grad'})\n",
    "\n",
    "# merge counts into user_id\n",
    "linkedin = pd.merge(linkedin, cnt, left_on='user_id', right_index=True, how='left')\n",
    "\n",
    "# merge dates into user_id\n",
    "linkedin = pd.merge(linkedin, earliest_learn, left_on='user_id', right_on='user_id', how='left')\n",
    "linkedin = pd.merge(linkedin, earliest_grad, left_on='user_id', right_on='user_id', how='left')\n",
    "linkedin = pd.merge(linkedin, latest_learn, left_on='user_id', right_on='user_id', how='left')\n",
    "linkedin = pd.merge(linkedin, latest_grad, left_on='user_id', right_on='user_id', how='left')\n",
    "\n",
    "linkedin = linkedin.rename(columns={'major': 'edu_cnt'})"
   ]
  },
  {
   "cell_type": "markdown",
   "metadata": {},
   "source": [
    "### 2.5.2. Draw information from position"
   ]
  },
  {
   "cell_type": "code",
   "execution_count": 27,
   "metadata": {},
   "outputs": [],
   "source": [
    "# Find the number of experience of each user_id\n",
    "cnt = position_new.groupby('user_id').count().jobtitle\n",
    "\n",
    "# Find earliest startdate/enddate and latest startdate/enddate\n",
    "earliest_learn = position_new.sort_values('startdate').groupby('user_id').head(1).sort_index()[['user_id', 'startdate']]\n",
    "latest_learn = position_new.sort_values('startdate').groupby('user_id').tail(1).sort_index()[['user_id', 'startdate']]\n",
    "earliest_grad = position_new.sort_values('enddate').groupby('user_id').head(1).sort_index()[['user_id', 'enddate']]\n",
    "latest_grad = position_new.sort_values('enddate').groupby('user_id').tail(1).sort_index()[['user_id', 'enddate']]\n",
    "earliest_learn = earliest_learn.rename(columns={'startdate': 'earliest_work'})\n",
    "earliest_grad = earliest_grad.rename(columns={'enddate': 'earliest_quit'})\n",
    "latest_learn = latest_learn.rename(columns={'startdate': 'latest_work'})\n",
    "latest_grad = latest_grad.rename(columns={'enddate': 'latest_quit'})\n",
    "\n",
    "# merge counts into user_id\n",
    "linkedin = pd.merge(linkedin, cnt, left_on='user_id', right_index=True, how='left')\n",
    "\n",
    "# merge dates into user_id\n",
    "linkedin = pd.merge(linkedin, earliest_learn, left_on='user_id', right_on='user_id', how='left')\n",
    "linkedin = pd.merge(linkedin, earliest_grad, left_on='user_id', right_on='user_id', how='left')\n",
    "linkedin = pd.merge(linkedin, latest_learn, left_on='user_id', right_on='user_id', how='left')\n",
    "linkedin = pd.merge(linkedin, latest_grad, left_on='user_id', right_on='user_id', how='left')\n",
    "\n",
    "linkedin = linkedin.rename(columns={'jobtitle': 'job_cnt'})"
   ]
  },
  {
   "cell_type": "markdown",
   "metadata": {},
   "source": [
    "### 2.5.3. Draw information from seniority"
   ]
  },
  {
   "cell_type": "code",
   "execution_count": 28,
   "metadata": {},
   "outputs": [
    {
     "data": {
      "text/plain": [
       "<AxesSubplot:xlabel='seniority'>"
      ]
     },
     "execution_count": 28,
     "metadata": {},
     "output_type": "execute_result"
    },
    {
     "data": {
      "image/png": "[encoded data removed]",
      "text/plain": [
       "<Figure size 576x360 with 1 Axes>"
      ]
     },
     "metadata": {
      "needs_background": "light"
     },
     "output_type": "display_data"
    }
   ],
   "source": [
    "plt.figure(figsize=(8,5))\n",
    "sns.boxplot(seniority_new['seniority'])"
   ]
  },
  {
   "cell_type": "code",
   "execution_count": 29,
   "metadata": {},
   "outputs": [],
   "source": [
    "# Find the number of experience of each user_id\n",
    "cnt = seniority_new.groupby('user_id').count().seniority\n",
    "\n",
    "# merge counts into user_id\n",
    "linkedin = pd.merge(linkedin, cnt, left_on='user_id', right_index=True, how='left')\n",
    "\n",
    "# draw some features from seniority\n",
    "seni_avg = seniority_new.groupby('user_id').mean()\n",
    "seni_max = seniority_new.groupby('user_id').max()\n",
    "seni_min = seniority_new.groupby('user_id').min()\n",
    "seni_sum = seniority_new.groupby('user_id').sum()\n",
    "seni_mid = seniority_new.groupby('user_id').median()\n",
    "seni_avg = seni_avg.rename(columns={'seniority': 'seni_avg'})\n",
    "seni_max = seni_max.rename(columns={'seniority': 'seni_max'})\n",
    "seni_min = seni_min.rename(columns={'seniority': 'seni_min'})\n",
    "seni_sum = seni_sum.rename(columns={'seniority': 'seni_sum'})\n",
    "seni_mid = seni_mid.rename(columns={'seniority': 'seni_mid'})\n",
    "\n",
    "# merge\n",
    "linkedin = pd.merge(linkedin, seni_avg, left_on='user_id', right_index=True, how='left')\n",
    "linkedin = pd.merge(linkedin, seni_max, left_on='user_id', right_index=True, how='left')\n",
    "linkedin = pd.merge(linkedin, seni_min, left_on='user_id', right_index=True, how='left')\n",
    "linkedin = pd.merge(linkedin, seni_sum, left_on='user_id', right_index=True, how='left')\n",
    "linkedin = pd.merge(linkedin, seni_mid, left_on='user_id', right_index=True, how='left')\n",
    "\n",
    "\n",
    "linkedin = linkedin.rename(columns={'seniority': 'seni_cnt'})"
   ]
  },
  {
   "cell_type": "markdown",
   "metadata": {},
   "source": [
    "### 2.5.4. Drop some column to make the complete cases more"
   ]
  },
  {
   "cell_type": "markdown",
   "metadata": {},
   "source": [
    "If we do not drop, there will be too few of complete training set."
   ]
  },
  {
   "cell_type": "code",
   "execution_count": 30,
   "metadata": {},
   "outputs": [
    {
     "data": {
      "image/png": "[encoded data removed]",
      "text/plain": [
       "<Figure size 864x432 with 2 Axes>"
      ]
     },
     "metadata": {
      "needs_background": "light"
     },
     "output_type": "display_data"
    }
   ],
   "source": [
    "fig, ax = plt.subplots(nrows=2, ncols=1, figsize=(12, 6))\n",
    "\n",
    "i = 0\n",
    "for col in ['seni_mid', 'seni_avg']:\n",
    "    sns.boxplot(linkedin[col], ax=ax[i])\n",
    "    i += 1"
   ]
  },
  {
   "cell_type": "code",
   "execution_count": 31,
   "metadata": {},
   "outputs": [
    {
     "name": "stdout",
     "output_type": "stream",
     "text": [
      "user_id               0\n",
      "edu_cnt           13929\n",
      "earliest_learn    14631\n",
      "earliest_grad     15927\n",
      "latest_learn      14801\n",
      "latest_grad       18067\n",
      "job_cnt           20824\n",
      "earliest_work     20825\n",
      "earliest_quit     31934\n",
      "latest_work       20869\n",
      "latest_quit       90150\n",
      "seni_cnt              0\n",
      "seni_avg              0\n",
      "seni_max              0\n",
      "seni_min              0\n",
      "seni_sum              0\n",
      "seni_mid              0\n",
      "dtype: int64\n",
      "261957\n"
     ]
    }
   ],
   "source": [
    "print(linkedin.isna().sum())\n",
    "print(linkedin.isna().sum().sum())"
   ]
  },
  {
   "cell_type": "code",
   "execution_count": 32,
   "metadata": {},
   "outputs": [],
   "source": [
    "linkedin = linkedin.drop(['earliest_quit', 'latest_quit', 'seni_avg'], axis=1)"
   ]
  },
  {
   "cell_type": "markdown",
   "metadata": {},
   "source": [
    "### 2.5.5. Convert Dates to date difference"
   ]
  },
  {
   "cell_type": "code",
   "execution_count": 33,
   "metadata": {},
   "outputs": [],
   "source": [
    "# calculate the difference between dates and today as years\n",
    "cols = ['earliest_learn', 'earliest_grad', 'latest_learn', 'latest_grad', 'earliest_work', 'latest_work']\n",
    "\n",
    "for col in cols:\n",
    "    linkedin[col+'_diff'] = (pd.to_datetime(\"today\") - linkedin[col]) / np.timedelta64(1, 'Y')\n",
    "\n",
    "# linkedin['earliest_learn_diff'] = (pd.to_datetime(\"today\") - linkedin['earliest_learn']) / np.timedelta64(1, 'Y')\n",
    "# linkedin['latest_grad_diff'] = (pd.to_datetime(\"today\") - linkedin['latest_grad']) / np.timedelta64(1, 'Y')\n",
    "# linkedin['earliest_work_diff'] = (pd.to_datetime(\"today\") - linkedin['earliest_work']) / np.timedelta64(1, 'Y')\n",
    "\n",
    "#linkedin"
   ]
  },
  {
   "cell_type": "markdown",
   "metadata": {},
   "source": [
    "# 3. Create Training Sets\n",
    "Find education words frequency"
   ]
  },
  {
   "cell_type": "markdown",
   "metadata": {},
   "source": [
    "Since we need to find training data ourself, we need an independent (or, at least as independent as possible) mechanism compaing with the preiction model to avoid \"predict what we made up\".\n",
    "\n",
    "To make our prediction model as reasonable as possible, we should create our training label as accurate as possible. Let's check our options first.\n",
    "\n",
    "We have 3 original datasets:\n",
    "1. seniority: the numbers of seniority doesn't seems like an linear function of job durations. A reasonable guess could be the results from the job description via NLP models. Although this dataset can reveal information combined with other data, this alone can not be a good basis to create a training set. It should be aligned with other data;\n",
    "2. position: position can be a reasonable basis to create training set. For example, we cna find the earliest start date of all jobs of a person and make our training labels by addition. However, it's still not optimal in our case since it can be tricky to distinguish the type of jobs (par-time, intern, full-time, etc.) and evaluate the time sequences among jobs and educations.\n",
    "3. education: this is the optimal choice in our case. A person can have multiple types of jobs in various age range, but, in general, most people will earn their degress while they are still young (for example, most of students start college at 18).\n",
    "\n",
    "So, the most reasonable choice in creation of training set is to utilize the education data.\n",
    "\n",
    "However, many specific question remains:\n",
    "1. What marks should we rely on?\n",
    "2. Which date should we utilize?\n",
    "3. How many data should we draw?\n",
    "4. How can we make sure that the data & model in creating training set is independent to the data & model we use to predict?\n",
    "5. How to make sure that the numbers of data on each age range are balanced (approximately with the same number of rows)?\n",
    "6. How to make sure that the training set is sufficient for prediction model training (does training set contains enough original informations)?\n",
    "\n",
    "Let's check what can we find from the original data first:"
   ]
  },
  {
   "cell_type": "markdown",
   "metadata": {},
   "source": [
    "> Top 10 token frequence of 'major'"
   ]
  },
  {
   "cell_type": "code",
   "execution_count": 34,
   "metadata": {},
   "outputs": [
    {
     "data": {
      "text/plain": [
       "<AxesSubplot:>"
      ]
     },
     "execution_count": 34,
     "metadata": {},
     "output_type": "execute_result"
    },
    {
     "data": {
      "image/png": "[encoded data removed]",
      "text/plain": [
       "<Figure size 720x504 with 1 Axes>"
      ]
     },
     "metadata": {
      "needs_background": "light"
     },
     "output_type": "display_data"
    }
   ],
   "source": [
    "top10words = education_new.major.str.split(expand=True).stack().value_counts()[:10]\n",
    "#print(top10words)\n",
    "plt.figure(figsize=(10,7))\n",
    "sns.barplot(top10words.index, top10words)"
   ]
  },
  {
   "cell_type": "markdown",
   "metadata": {},
   "source": [
    "It turns out that we have at least 20054 + 7315 = 27369 data points which indicate the degree is 'bachelor' (if counting the abbriviation like BSc, BA, etc., there will be more).\n",
    "\n",
    "This could be a good basis since\n",
    "1. most people start their bachelor's degree at a certian age (18);\n",
    "2. we have enough data (up to 27369) for training purpose;\n",
    "3. although the enddata can vary since some people may take gap year(s) or drop from school, we can rely on start date, which is much more accurate;\n",
    "4. even though we may take up to about 27k data from the original data set to make train/prediction independent, we still have over about 100k data which we can run our prediction model on;\n",
    "5. the creation of training sample is effcient and reasonable and with the highest accuracy comparing with other options: we simply suppose the year of a 'bachelor's' start date is of age 18, then calculate the difference between that age and today, then add 18 to this difference;\n",
    "6. we can select the user_id(s) with complete information on all 3 original tables to make sure our prediction model can draw as much as information from as many features as possible from these traning points;\n",
    "7. we can efficiently make the numbers of age-range balanced."
   ]
  },
  {
   "cell_type": "code",
   "execution_count": 35,
   "metadata": {},
   "outputs": [],
   "source": [
    "bachelors = education_new.loc[education_new['major'].str.contains(\"bachelor\", case=False)]\n",
    "#bachelors"
   ]
  },
  {
   "cell_type": "code",
   "execution_count": 36,
   "metadata": {},
   "outputs": [],
   "source": [
    "# pick bachelors from education data\n",
    "bachelors = education_new.loc[education_new['major'].str.contains(\"bachelor\", case=False)]\n",
    "bachelors['bc_learn'] = bachelors.startdate\n",
    "bachelors = bachelors[['user_id', 'bc_learn']]\n",
    "\n",
    "# join to big table\n",
    "linkedin = pd.merge(linkedin, bachelors, left_on='user_id', right_on='user_id', how='left')\n",
    "#linkedin\n",
    "#linkedin.bc_learn = linkedin.bc_learn.fillna(False)"
   ]
  },
  {
   "cell_type": "code",
   "execution_count": 37,
   "metadata": {},
   "outputs": [],
   "source": [
    "linkedin = linkedin.drop_duplicates(keep='first', inplace=False, subset='user_id')"
   ]
  },
  {
   "cell_type": "code",
   "execution_count": 38,
   "metadata": {},
   "outputs": [],
   "source": [
    "bc_df = linkedin.loc[~linkedin.bc_learn.isnull()]\n",
    "completes = bc_df[~linkedin.isnull().any(axis=1)]\n",
    "completes['birth_guess'] = completes['bc_learn'] + pd.offsets.DateOffset(years=-18)\n",
    "completes['age_guess'] = ((pd.to_datetime(\"today\") - completes['birth_guess']) / np.timedelta64(1, 'Y'))\n",
    "#completes"
   ]
  },
  {
   "cell_type": "code",
   "execution_count": 39,
   "metadata": {},
   "outputs": [],
   "source": [
    "def label_age(x):\n",
    "   if x <=24:\n",
    "      return 1\n",
    "   if 24 < x <= 30:\n",
    "      return 2\n",
    "   if 30 < x <= 36:\n",
    "      return 3\n",
    "   if 36 < x <= 42:\n",
    "      return 4\n",
    "   if 42 < x <= 48:\n",
    "      return 5\n",
    "   if 48 < x <= 54:\n",
    "      return 6\n",
    "   if x > 54:\n",
    "      return 7\n",
    "   return 0"
   ]
  },
  {
   "cell_type": "code",
   "execution_count": 40,
   "metadata": {},
   "outputs": [],
   "source": [
    "completes['label'] = completes.age_guess.apply(lambda x: label_age(x))\n",
    "#completes.sort_values('age_guess')\n",
    "completes_copy = completes.copy()\n",
    "\n",
    "cols = [col + '_diff' for col in cols]\n",
    "completes = completes[['user_id'] + cols + ['edu_cnt', 'seni_cnt', 'seni_max', 'seni_min', 'seni_sum', 'seni_mid', 'label']]\n",
    "#completes.sort_values('label')"
   ]
  },
  {
   "cell_type": "code",
   "execution_count": 41,
   "metadata": {},
   "outputs": [
    {
     "data": {
      "text/plain": [
       "Text(0, 0.5, 'Number of Samples')"
      ]
     },
     "execution_count": 41,
     "metadata": {},
     "output_type": "execute_result"
    },
    {
     "data": {
      "image/png": "[encoded data removed]",
      "text/plain": [
       "<Figure size 576x360 with 1 Axes>"
      ]
     },
     "metadata": {
      "needs_background": "light"
     },
     "output_type": "display_data"
    }
   ],
   "source": [
    "cnt = completes.label.value_counts()\n",
    "plt.figure(figsize=(8,5))\n",
    "sns.barplot(cnt.index, cnt)\n",
    "plt.xlabel('Ranges of Age')\n",
    "plt.ylabel('Number of Samples')"
   ]
  },
  {
   "cell_type": "markdown",
   "metadata": {},
   "source": [
    "Very unbalanced data. We might need to use naive resampling (under/over sampling combined) in the training parts from cross validation.\n",
    "\n",
    "The using of rebalancing methods should be based on the final performance since random sampling may affect the generaliztion ability. For time-limit and computational-power-limit, I choose to only run model on the rebalanced data sets."
   ]
  },
  {
   "cell_type": "markdown",
   "metadata": {},
   "source": [
    "# 4. Select Models for the Number-Based Predictions (heavily commented for faster rendering)"
   ]
  },
  {
   "cell_type": "markdown",
   "metadata": {},
   "source": [
    "## 4.1. Try multiple models of almost default parameters"
   ]
  },
  {
   "cell_type": "code",
   "execution_count": 42,
   "metadata": {},
   "outputs": [],
   "source": [
    "from sklearn.model_selection import cross_val_score\n",
    "from sklearn.model_selection import RepeatedStratifiedKFold\n",
    "from sklearn.preprocessing import StandardScaler\n",
    "\n",
    "from sklearn.tree import DecisionTreeClassifier\n",
    "from sklearn.linear_model import LogisticRegression\n",
    "from sklearn.neural_network import MLPClassifier\n",
    "from sklearn.neighbors import KNeighborsClassifier\n",
    "from sklearn.svm import SVC\n",
    "from sklearn.gaussian_process import GaussianProcessClassifier\n",
    "from sklearn.gaussian_process.kernels import RBF\n",
    "from sklearn.ensemble import RandomForestClassifier, AdaBoostClassifier\n",
    "from sklearn.naive_bayes import GaussianNB\n",
    "from sklearn.discriminant_analysis import QuadraticDiscriminantAnalysis\n",
    "\n",
    "from imblearn.over_sampling import RandomOverSampler\n",
    "from imblearn.under_sampling import RandomUnderSampler\n",
    "from imblearn.pipeline import Pipeline\n",
    "\n",
    "from collections import Counter"
   ]
  },
  {
   "cell_type": "code",
   "execution_count": 43,
   "metadata": {},
   "outputs": [
    {
     "name": "stdout",
     "output_type": "stream",
     "text": [
      "F1 Score of Decision Tree: 0.825\n",
      "0.83 +- 0.02\n",
      "F1 Score of Random Forest: 0.798\n",
      "0.80 +- 0.02\n",
      "Best F1 Score from Decision Tree: 0.83\n",
      "0.83 +- 0.02\n"
     ]
    }
   ],
   "source": [
    "# define dataset and summarize class distribution\n",
    "X, y = completes.iloc[:, 1:-1], completes.iloc[:, -1]\n",
    "#print(Counter(y))\n",
    "#X = StandardScaler().fit_transform(X)\n",
    "#print(X)\n",
    "\n",
    "# define over/under sampling strategy\n",
    "over_stra = {1: 1000, 6: 2000, 7: 2000}\n",
    "under_stra = {3: 5000}\n",
    "#over = RandomOverSampler(sampling_strategy=over_stra)\n",
    "#under = RandomUnderSampler(sampling_strategy=under_stra)\n",
    "\n",
    "# # fit and apply the transform\n",
    "# X, y = over.fit_resample(X, y)\n",
    "# print(Counter(y))\n",
    "# X, y = under.fit_resample(X, y)\n",
    "# print(Counter(y))\n",
    "\n",
    "\n",
    "\n",
    "names = [\n",
    "    #\"Nearest Neighbors\",\n",
    "    #\"Linear SVM\",\n",
    "    #\"RBF SVM\",\n",
    "    #\"Gaussian Process\",\n",
    "    #\"Logistics\",\n",
    "    \"Decision Tree\",\n",
    "    \"Random Forest\",\n",
    "    #\"Neural Net\",\n",
    "    #\"AdaBoost\",\n",
    "    #\"Naive Bayes\",\n",
    "    #\"QDA\",\n",
    "]\n",
    "\n",
    "classifiers = [\n",
    "    #KNeighborsClassifier(3),\n",
    "    #SVC(kernel=\"linear\", C=0.025),\n",
    "    #SVC(gamma=2, C=1),\n",
    "    #GaussianProcessClassifier(1.0 * RBF(1.0)),\n",
    "    #LogisticRegression(solver='liblinear'),\n",
    "    DecisionTreeClassifier(max_depth=10),\n",
    "    RandomForestClassifier(max_depth=10, n_estimators=10, max_features=1),\n",
    "    #MLPClassifier(alpha=1, max_iter=1000),\n",
    "    #AdaBoostClassifier(),\n",
    "    #GaussianNB(),\n",
    "    #QuadraticDiscriminantAnalysis(),\n",
    "]\n",
    "\n",
    "#for rs in range(1, 5):\n",
    "#for rs in range(1, 1):\n",
    "    #print('Entering random_state: ', rs)\n",
    "\n",
    "# for reproductivity\n",
    "cv = RepeatedStratifiedKFold(n_splits=10, n_repeats=3, random_state=1234)\n",
    "\n",
    "# find the best by F1\n",
    "best_name = ''\n",
    "best_f1 = -1\n",
    "best_std = 0\n",
    "\n",
    "# evaluate models\n",
    "for i in range(len(names)):\n",
    "    # define pipeline\n",
    "    steps = [('over', RandomOverSampler(sampling_strategy=over_stra)), ('under', RandomUnderSampler(sampling_strategy=under_stra)), ('model', classifiers[i])]\n",
    "    pipeline = Pipeline(steps=steps)\n",
    "\n",
    "    # evaluate pipeline\n",
    "    scores = cross_val_score(pipeline, X, y, scoring='f1_micro', cv=cv, n_jobs=-1)\n",
    "    score = np.mean(scores)    \n",
    "    print('F1 Score of ' + names[i] + ': %.3f' % score)\n",
    "    print(f'{score :0.2f} +- {2*np.std(scores) :0.2f}')\n",
    "    \n",
    "    # update best model\n",
    "    if score > best_f1:\n",
    "        best_name = names[i]\n",
    "        best_f1 = score\n",
    "        best_std = np.std(scores)\n",
    "\n",
    "# show the best model and its performance\n",
    "print('Best F1 Score from ' + best_name + ': %.2f' % best_f1)\n",
    "print(f'{best_f1 :0.2f} +- {2*best_std :0.2f}')\n",
    "\n",
    "# # define pipeline\n",
    "# steps1 = [('over', RandomOverSampler(sampling_strategy=over_stra)), ('under', RandomUnderSampler(sampling_strategy=under_stra)), ('model', DecisionTreeClassifier())]\n",
    "# pipeline1 = Pipeline(steps=steps1)\n",
    "# steps2 = [('over', RandomOverSampler(sampling_strategy=over_stra)), ('under', RandomUnderSampler(sampling_strategy=under_stra)), ('model', LogisticRegression(solver='liblinear'))]\n",
    "# pipeline2 = Pipeline(steps=steps2)\n",
    "\n",
    "# # evaluate pipeline\n",
    "# scores_tree = cross_val_score(pipeline1, X, y, scoring='f1_micro', cv=cv, n_jobs=-1)\n",
    "# score_tree = np.mean(scores_tree)\n",
    "# print('F1 Score: %.3f' % score_tree)\n",
    "# scores_log = cross_val_score(pipeline2, X, y, scoring='f1_micro', cv=cv, n_jobs=-1)\n",
    "# score_log = np.mean(scores_tree)\n",
    "# print('F1 Score: %.3f' % score_log)\n",
    "\n"
   ]
  },
  {
   "cell_type": "markdown",
   "metadata": {},
   "source": [
    "Classification tree, random forest, and neural network are possible choices. "
   ]
  },
  {
   "cell_type": "markdown",
   "metadata": {},
   "source": [
    "## 4.2. Optimization: Classification Tree"
   ]
  },
  {
   "cell_type": "code",
   "execution_count": 44,
   "metadata": {},
   "outputs": [],
   "source": [
    "# cv = RepeatedStratifiedKFold(n_splits=10, n_repeats=3, random_state=1234)\n",
    "\n",
    "# for _ in range(10):\n",
    "#     mean_scores = []\n",
    "#     for depth in [8, 9, 10, 11, 12, 13, 14]:\n",
    "#         steps = [('over', RandomOverSampler(sampling_strategy=over_stra)), ('under', RandomUnderSampler(sampling_strategy=under_stra)), ('model', DecisionTreeClassifier(max_depth=depth))]\n",
    "#         pipeline = Pipeline(steps=steps)\n",
    "#         scores = cross_val_score(pipeline, X, y, scoring='f1_micro', cv=cv, n_jobs=-1)\n",
    "#         score = np.mean(scores).round(3)\n",
    "#         mean_scores.append( (depth, score) )\n",
    "#     # for depth, mean_score in mean_scores:\n",
    "#     #     print(f'{depth = :2d} : {mean_score: 0.3f}')\n",
    "\n",
    "#     print(sorted(mean_scores, key=lambda x:x[1],reverse=True)[0])"
   ]
  },
  {
   "cell_type": "markdown",
   "metadata": {},
   "source": [
    "The best depth is 9 by cross validation."
   ]
  },
  {
   "cell_type": "markdown",
   "metadata": {},
   "source": [
    "## 4.3. Optimization: Random Forest"
   ]
  },
  {
   "cell_type": "code",
   "execution_count": 45,
   "metadata": {},
   "outputs": [],
   "source": [
    "# from sklearn.model_selection import GridSearchCV\n",
    "\n",
    "# params = {'model__bootstrap': [True, False],\n",
    "#                 'model__max_depth': [5, 10, 30],\n",
    "#                 'model__max_features': ['auto', 'sqrt'],\n",
    "#                 'model__min_samples_leaf': [1, 2, 4],\n",
    "#                 'model__min_samples_split': [2, 5, 10],\n",
    "#                 'model__n_estimators': [10, 50, 80]}\n",
    "\n",
    "# steps = [('over', RandomOverSampler(sampling_strategy=over_stra)), ('under', RandomUnderSampler(sampling_strategy=under_stra)), ('model', RandomForestClassifier())]\n",
    "# pipeline = Pipeline(steps=steps)\n",
    "# rf_search = GridSearchCV(pipeline, param_grid=params, refit=True, n_jobs=-1, scoring='f1_micro') # refit True trains one more time on the entire training set\n",
    "\n",
    "# rf_search.fit(X,y)\n",
    "# print(\"Best parameter (CV score=%0.3f):\" % rf_search.best_score_)\n",
    "# print(rf_search.best_params_)\n"
   ]
  },
  {
   "cell_type": "markdown",
   "metadata": {},
   "source": [
    "The best RF is:\n",
    "{'model__bootstrap': False, 'model__max_depth': 30, 'model__max_features': 'auto', 'model__min_samples_leaf': 1, 'model__min_samples_split': 5, 'model__n_estimators': 50}"
   ]
  },
  {
   "cell_type": "markdown",
   "metadata": {},
   "source": [
    "## 4.4. Optimization: Neural Network"
   ]
  },
  {
   "cell_type": "code",
   "execution_count": 46,
   "metadata": {},
   "outputs": [],
   "source": [
    "# #MLPClassifier(alpha=1, max_iter=1000)\n",
    "# params = {'model__hidden_layer_sizes': [(50,50,50), (50,100,50), (100,)],\n",
    "#             'model__activation': ['tanh', 'relu'],\n",
    "#             'model__solver': ['sgd', 'adam'],\n",
    "#             'model__alpha': [0.0001, 0.05, 1],\n",
    "#             'model__learning_rate': ['constant','adaptive'], \n",
    "#             }\n",
    "\n",
    "# steps = [('over', RandomOverSampler(sampling_strategy=over_stra)), ('under', RandomUnderSampler(sampling_strategy=under_stra)), ('model', MLPClassifier(max_iter=1000))]\n",
    "# pipeline = Pipeline(steps=steps)\n",
    "# rf_search = GridSearchCV(pipeline, param_grid=params, refit=True, n_jobs=11, scoring='f1_micro') # refit True trains one more time on the entire training set\n",
    "\n",
    "# rf_search.fit(X,y)\n",
    "# print(\"Best parameter (CV score=%0.3f):\" % rf_search.best_score_)\n",
    "# print(rf_search.best_params_)\n"
   ]
  },
  {
   "cell_type": "markdown",
   "metadata": {},
   "source": [
    "Best parameter (CV score=0.825):\n",
    "{'model__activation': 'tanh', 'model__alpha': 0.05, 'model__hidden_layer_sizes': (50, 100, 50), 'model__learning_rate': 'constant', 'model__solver': 'adam'}"
   ]
  },
  {
   "cell_type": "markdown",
   "metadata": {},
   "source": [
    "So a reasonable choice is to use random forest with the parameters above."
   ]
  },
  {
   "cell_type": "markdown",
   "metadata": {},
   "source": [
    "## 4.5. Train Optimal Random Forest on The Training Set as a Whole"
   ]
  },
  {
   "cell_type": "code",
   "execution_count": 47,
   "metadata": {},
   "outputs": [
    {
     "name": "stdout",
     "output_type": "stream",
     "text": [
      "Counter({3: 7732, 4: 4493, 2: 4432, 5: 2485, 6: 2000, 7: 2000, 1: 1000})\n",
      "Counter({3: 5000, 4: 4493, 2: 4432, 5: 2485, 6: 2000, 7: 2000, 1: 1000})\n"
     ]
    },
    {
     "data": {
      "text/plain": [
       "RandomForestClassifier(bootstrap=False, max_depth=30, min_samples_split=5,\n",
       "                       n_estimators=50)"
      ]
     },
     "execution_count": 47,
     "metadata": {},
     "output_type": "execute_result"
    }
   ],
   "source": [
    "# pick data\n",
    "X, y = completes.iloc[:, 1:-1], completes.iloc[:, -1]\n",
    "\n",
    "# set the random sampler\n",
    "over_stra = {1: 1000, 6: 2000, 7: 2000}\n",
    "under_stra = {3: 5000}\n",
    "over = RandomOverSampler(sampling_strategy=over_stra)\n",
    "under = RandomUnderSampler(sampling_strategy=under_stra)\n",
    "\n",
    "# fit and apply the transform\n",
    "X, y = over.fit_resample(X, y)\n",
    "print(Counter(y))\n",
    "X, y = under.fit_resample(X, y)\n",
    "print(Counter(y))\n",
    "\n",
    "clf = RandomForestClassifier(bootstrap=False, max_depth=30, max_features='auto', min_samples_leaf=1, min_samples_split=5, n_estimators=50)\n",
    "clf.fit(X, y)"
   ]
  },
  {
   "cell_type": "markdown",
   "metadata": {},
   "source": [
    "# 5. Filling NAs for Broader Prediction\n",
    "\n",
    "To deal with the NA, we have several options.\n",
    "1. Drop all incomplete;\n",
    "2. Fill with interpolation;\n",
    "3. Fill with min/max;\n",
    "4. Fill with constant values;\n",
    "5. Fill with inpute (average).\n",
    "\n",
    "If we drop all, then we can not predict most of the users;\n",
    "\n",
    "We can not fill with interpolation since the values have no order;\n",
    "\n",
    "Filling with min/max would push our predictions to one extream;\n",
    "\n",
    "We don't know what kind of constant value should be filled without affecting our model;\n",
    "\n",
    "As shown in the (true) age distribution bar chart above, if we are not sure about a certain information field of a person, a reasonable guess (a dummy guess in the meantime) should be the this person is of the average age of the sample space. So, by setting the NAs to the avg, we have somehow set a dummy prediction direction of our random forest model: if you are not sure, move this person close to the average (or median) position. In our case, the average postion should be age group 3 (30 - 36), which is a pretty good guess regarding the reality."
   ]
  },
  {
   "cell_type": "code",
   "execution_count": 48,
   "metadata": {},
   "outputs": [],
   "source": [
    "linkedin_impute = linkedin.copy()\n",
    "linkedin_impute = linkedin_impute.drop(['earliest_learn', 'earliest_grad', 'latest_learn', 'latest_grad', 'earliest_work', 'latest_work', 'bc_learn'], axis=1)\n",
    "linkedin_impute = linkedin_impute[['user_id'] + cols + ['edu_cnt', 'seni_cnt', 'seni_max', 'seni_min', 'seni_sum', 'seni_mid']]\n",
    "#print(linkedin_impute.info())"
   ]
  },
  {
   "cell_type": "code",
   "execution_count": 49,
   "metadata": {},
   "outputs": [],
   "source": [
    "for name, _ in linkedin_impute.iteritems():\n",
    "    if name == 'user_id':\n",
    "        continue\n",
    "    linkedin_impute[name].fillna(linkedin_impute[name].mean(),inplace=True)"
   ]
  },
  {
   "cell_type": "markdown",
   "metadata": {},
   "source": [
    "# 6. Predict Age Range by Optimal Random Forest Function"
   ]
  },
  {
   "cell_type": "code",
   "execution_count": 50,
   "metadata": {},
   "outputs": [],
   "source": [
    "rf_predict = clf.predict(linkedin_impute.iloc[:, 1:])\n",
    "#len(rf_predict)"
   ]
  },
  {
   "cell_type": "markdown",
   "metadata": {},
   "source": [
    "# 7. Exploration: NLP on Education 'major'"
   ]
  },
  {
   "cell_type": "markdown",
   "metadata": {},
   "source": [
    "I suppose the education background, order by the startdate, has some long-term structure underneath. So LSTM might be a good try-out in the first place.\n",
    "\n",
    "Unfortunately, after trying out many combinations of accuracy optimiaztion technologies, based on the current data amount we have, we can only achieve about 0.2 accuracy. So the process below is to show what could we might achieve if we have extra time and data via LSTM."
   ]
  },
  {
   "cell_type": "markdown",
   "metadata": {},
   "source": [
    "Before we go on with NLP model, we should clean our text first. Here are some problems I observed:\n",
    "1. There are differences in lower/upper cases\n",
    "2. There are strange symbols like \"_\" in the text\n",
    "3. There are digits in text\n",
    "4. There are abbreviations (mba, phd, ...);\n",
    "5. There are wrong spelling (bachelor/bechelor)\n",
    "6. There are non-English text;\n",
    "7. There are unreasonable major ('god', 'king', ...);\n",
    "8. ......\n",
    "\n",
    "1 to 3 has been addressed in the previous cleaning.\n",
    "Here, I only tried address 4, 5, and 6 as a demonstration of cleaning, since there is time limit.\n",
    "6 (find the \"dirty words\") can be very time consuming."
   ]
  },
  {
   "cell_type": "code",
   "execution_count": 51,
   "metadata": {},
   "outputs": [],
   "source": [
    "# pick the major text data\n",
    "majors = education_new[['user_id', 'major', 'startdate']].copy()"
   ]
  },
  {
   "cell_type": "markdown",
   "metadata": {},
   "source": [
    "## 7.1. Replace Abbreviations"
   ]
  },
  {
   "cell_type": "markdown",
   "metadata": {},
   "source": [
    "Notice that I random over sampling the data (x100) to make the accuracy reached about 0.43. With the original data, even with very complicated network, we can only reach about 0.3 on test set."
   ]
  },
  {
   "cell_type": "code",
   "execution_count": 52,
   "metadata": {},
   "outputs": [],
   "source": [
    "import re\n",
    "\n",
    "# set up reg expressions\n",
    "hs = '((^|\\s)hs($|\\s))'\n",
    "bc = ['ba', 'bb', 'bd', 'bfa', 'bm', 'bs', 'bsc', 'db', 'llb', 'musb', 'phb', 'sb', 'stb', 'bechelor']\n",
    "ms = ['edm', 'llm', 'ma', 'mba', 'mdiv', 'med', 'mfa', 'mlis', 'mm', 'mmus', 'mpa', 'mphil', 'ms', 'msc', 'msci', 'msis', 'msn', 'msw', 'mt', 'sm', 'scm', 'mha', 'mpa', 'mester']\n",
    "phd = ['dc', 'dd', 'dds', 'dlitt', 'dlit', 'dma', 'dmd', 'dmin', 'dvm', 'edd', 'jd', 'lhd', 'littd', 'md', 'phd']\n",
    "\n",
    "pre = '((^|\\s)'\n",
    "suf = '($|\\s))'\n",
    "\n",
    "bc = [pre + abb + suf for abb in bc]\n",
    "ms = [pre + abb + suf for abb in ms]\n",
    "phd = [pre + abb + suf for abb in phd]\n",
    "    \n",
    "bc = '|'.join(bc)\n",
    "ms = '|'.join(ms)\n",
    "phd = '|'.join(phd)\n",
    "\n",
    "# replace abbreviations\n",
    "regs = [hs, bc, ms, phd]\n",
    "to_str = [' high school ', ' bachelor ', ' master ', ' doctor ']\n",
    "for i in range(len(regs)):\n",
    "    majors.major.replace(regs[i], to_str[i], regex=True, inplace=True)"
   ]
  },
  {
   "cell_type": "markdown",
   "metadata": {},
   "source": [
    "## 7.2. Translate"
   ]
  },
  {
   "cell_type": "markdown",
   "metadata": {},
   "source": [
    "Since there are text not in English, tried to use Google Translate API to translate the text first. But it's too slow: I need around 20h to complete the translation.\n",
    "\n",
    "So here, I just show a mini set of data to show the process."
   ]
  },
  {
   "cell_type": "code",
   "execution_count": 53,
   "metadata": {},
   "outputs": [
    {
     "name": "stdout",
     "output_type": "stream",
     "text": [
      "4    Linguistics applied in the teaching of English...\n",
      "5                        Bachelor of Foreign Languages\n",
      "Name: major, dtype: object\n"
     ]
    }
   ],
   "source": [
    "translator = Translator()\n",
    "#translation = translator.translate(\"auslandssemester\", dest='en')\n",
    "#print(translation.text)\n",
    "\n",
    "# select a small set of data\n",
    "#atest = education_clean['major'].iloc[:5].apply(translator.translate, dest='en').apply(getattr, args=('text',))\n",
    "tmp = majors.iloc[:10]\n",
    "\n",
    "# detect the language\n",
    "langs = tmp.major.apply(translator.detect).apply(getattr, args=('lang', ))\n",
    "tmp['langs'] = langs\n",
    "#print(langs)\n",
    "#education_clean['major_trans'] = education_clean['major'].apply(translator.translate, dest='en').apply(getattr, args=('text',))\n",
    "#education_clean.sort_values(['duration']).iloc[:30]\n",
    "#print(tmp)\n",
    "\n",
    "# translate them to english\n",
    "other_lang = tmp.loc[tmp.langs != 'en']\n",
    "test_res = other_lang['major'].apply(translator.translate, dest='en').apply(getattr, args=('text',))\n",
    "print(test_res)"
   ]
  },
  {
   "cell_type": "markdown",
   "metadata": {},
   "source": [
    "## 7.3. Remove 'placeholder', which was prepared for translation"
   ]
  },
  {
   "cell_type": "code",
   "execution_count": 54,
   "metadata": {},
   "outputs": [],
   "source": [
    "majors.major.replace('placeholder', '', regex=True, inplace=True)"
   ]
  },
  {
   "cell_type": "markdown",
   "metadata": {},
   "source": [
    "## 7.4. Explore the Word Sets"
   ]
  },
  {
   "cell_type": "code",
   "execution_count": 55,
   "metadata": {},
   "outputs": [],
   "source": [
    "from sklearn import metrics\n",
    "from sklearn.preprocessing import LabelEncoder,OneHotEncoder\n",
    "from keras.models import Model\n",
    "from keras.layers import LSTM, Activation, Dense, Dropout, Input, Embedding\n",
    "from tensorflow.keras.optimizers import RMSprop\n",
    "from keras.preprocessing.text import Tokenizer\n",
    "from keras.preprocessing import sequence\n",
    "from keras.callbacks import EarlyStopping\n",
    "from tensorflow.keras.optimizers import Nadam"
   ]
  },
  {
   "cell_type": "markdown",
   "metadata": {},
   "source": [
    "## 7.5. Select the Training Set We Used in Random Forest"
   ]
  },
  {
   "cell_type": "code",
   "execution_count": 56,
   "metadata": {},
   "outputs": [],
   "source": [
    "train_id = completes['user_id'].copy()\n",
    "edu_nlp_train = majors[majors['user_id'].isin(train_id)]\n",
    "edu_nlp_train.sort_values(['user_id', 'startdate'], inplace=True)\n",
    "edu_nlp_train = edu_nlp_train.copy()\n",
    "edu_nlp_train['words'] = edu_nlp_train.groupby('user_id').transform(lambda x: ''.join(x))\n",
    "edu_nlp_train.drop_duplicates(subset='user_id', keep='first', inplace=True)"
   ]
  },
  {
   "cell_type": "code",
   "execution_count": 57,
   "metadata": {},
   "outputs": [
    {
     "name": "stdout",
     "output_type": "stream",
     "text": [
      "<class 'pandas.core.frame.DataFrame'>\n",
      "Int64Index: 22576 entries, 5126 to 185119\n",
      "Data columns (total 4 columns):\n",
      " #   Column     Non-Null Count  Dtype         \n",
      "---  ------     --------------  -----         \n",
      " 0   user_id    22576 non-null  object        \n",
      " 1   major      22576 non-null  object        \n",
      " 2   startdate  22576 non-null  datetime64[ns]\n",
      " 3   words      22576 non-null  object        \n",
      "dtypes: datetime64[ns](1), object(3)\n",
      "memory usage: 881.9+ KB\n"
     ]
    }
   ],
   "source": [
    "edu_nlp_train.info()"
   ]
  },
  {
   "cell_type": "code",
   "execution_count": 58,
   "metadata": {},
   "outputs": [],
   "source": [
    "edu_nlp_train['totalwords'] = edu_nlp_train['words'].str.split().str.len()\n",
    "#edu_nlp_train"
   ]
  },
  {
   "cell_type": "markdown",
   "metadata": {},
   "source": [
    "## 7.6. Check the results of cleaning"
   ]
  },
  {
   "cell_type": "code",
   "execution_count": 59,
   "metadata": {},
   "outputs": [
    {
     "name": "stdout",
     "output_type": "stream",
     "text": [
      "3951\n"
     ]
    },
    {
     "data": {
      "text/plain": [
       "<AxesSubplot:>"
      ]
     },
     "execution_count": 59,
     "metadata": {},
     "output_type": "execute_result"
    },
    {
     "data": {
      "image/png": "[encoded data removed]",
      "text/plain": [
       "<Figure size 1008x360 with 1 Axes>"
      ]
     },
     "metadata": {
      "needs_background": "light"
     },
     "output_type": "display_data"
    }
   ],
   "source": [
    "words_count = edu_nlp_train.words.str.split(expand=True).stack().value_counts()\n",
    "print(len(words_count))\n",
    "#print(top10words)\n",
    "top10words = words_count[:10]\n",
    "plt.figure(figsize=(14,5))\n",
    "sns.barplot(top10words.index, top10words)"
   ]
  },
  {
   "cell_type": "code",
   "execution_count": 60,
   "metadata": {},
   "outputs": [
    {
     "name": "stdout",
     "output_type": "stream",
     "text": [
      "count    22576.000000\n",
      "mean         5.273521\n",
      "std          2.867668\n",
      "min          1.000000\n",
      "25%          3.000000\n",
      "50%          5.000000\n",
      "75%          7.000000\n",
      "max         34.000000\n",
      "Name: totalwords, dtype: float64\n"
     ]
    },
    {
     "data": {
      "text/plain": [
       "Text(0.5, 1.0, 'Majors Words Conbined By Startdate')"
      ]
     },
     "execution_count": 60,
     "metadata": {},
     "output_type": "execute_result"
    },
    {
     "data": {
      "image/png": "[encoded data removed]",
      "text/plain": [
       "<Figure size 576x360 with 1 Axes>"
      ]
     },
     "metadata": {
      "needs_background": "light"
     },
     "output_type": "display_data"
    }
   ],
   "source": [
    "print(edu_nlp_train.totalwords.describe())\n",
    "plt.figure(figsize=(8, 5))\n",
    "sns.histplot(edu_nlp_train.totalwords)\n",
    "plt.xlabel(\"Length of words\")\n",
    "plt.ylabel(\"Freq\")\n",
    "plt.title(\"Majors Words Conbined By Startdate\")"
   ]
  },
  {
   "cell_type": "code",
   "execution_count": 61,
   "metadata": {},
   "outputs": [],
   "source": [
    "# join the training set\n",
    "labels = completes[['user_id', 'label']]\n",
    "edu_nlp_train = pd.merge(edu_nlp_train, labels, left_on='user_id', right_on='user_id', how='left')"
   ]
  },
  {
   "cell_type": "markdown",
   "metadata": {},
   "source": [
    "## 7.7. Draw some train/val/test"
   ]
  },
  {
   "cell_type": "code",
   "execution_count": 62,
   "metadata": {},
   "outputs": [
    {
     "name": "stdout",
     "output_type": "stream",
     "text": [
      "Counter({3: 500000, 4: 449300, 2: 443200, 5: 248600, 6: 200000, 7: 200000, 1: 100000})\n"
     ]
    }
   ],
   "source": [
    "from sklearn.model_selection import train_test_split\n",
    "\n",
    "# define dataset and summarize class distribution\n",
    "X, y = edu_nlp_train[['user_id', 'words']], edu_nlp_train.iloc[:, -1]\n",
    "#print(Counter(y))\n",
    "#X = StandardScaler().fit_transform(X)\n",
    "#print(X)\n",
    "\n",
    "# define over/under sampling strategy\n",
    "over_stra = {1: 1000, 6: 2000, 7: 2000}\n",
    "under_stra = {3: 5000}\n",
    "over = RandomOverSampler(sampling_strategy=over_stra)\n",
    "under = RandomUnderSampler(sampling_strategy=under_stra)\n",
    "\n",
    "# fit and apply the transform\n",
    "X, y = over.fit_resample(X, y)\n",
    "#print(Counter(y))\n",
    "X, y = under.fit_resample(X, y)\n",
    "#print(Counter(y))\n",
    "\n",
    "# increase the data volumn\n",
    "over_stra = {1: 100000, 2: 443200, 3: 500000, 4: 449300, 5: 248600, 6: 200000, 7: 200000}\n",
    "over = RandomOverSampler(sampling_strategy=over_stra)\n",
    "X, y = over.fit_resample(X, y)\n",
    "print(Counter(y))\n",
    "\n",
    "# split to trian/val/test\n",
    "train_X, test_X, train_y, test_y = train_test_split(X, y, test_size=0.2, random_state=1)\n",
    "train_X, val_X, train_y, val_y = train_test_split(train_X, train_y, test_size=0.25, random_state=1)"
   ]
  },
  {
   "cell_type": "markdown",
   "metadata": {},
   "source": [
    "## 7.8. Encoding labels"
   ]
  },
  {
   "cell_type": "code",
   "execution_count": 63,
   "metadata": {},
   "outputs": [],
   "source": [
    "# reshape\n",
    "le = LabelEncoder()\n",
    "train_y = le.fit_transform(train_y).reshape(-1,1)\n",
    "val_y = le.transform(val_y).reshape(-1,1)\n",
    "test_y = le.transform(test_y).reshape(-1,1)\n",
    "\n",
    "# one-hot\n",
    "ohe = OneHotEncoder()\n",
    "train_y = ohe.fit_transform(train_y).toarray()\n",
    "val_y = ohe.transform(val_y).toarray()\n",
    "test_y = ohe.transform(test_y).toarray()"
   ]
  },
  {
   "cell_type": "markdown",
   "metadata": {},
   "source": [
    "## 7.9. Tokenization"
   ]
  },
  {
   "cell_type": "code",
   "execution_count": 64,
   "metadata": {},
   "outputs": [
    {
     "name": "stdout",
     "output_type": "stream",
     "text": [
      "['bachelor', 'scienc', 'b', 'sc', 'ed', 'hhxbachelor', 'bachelor', 'master', 'cand', 'mag', 'bachelor', 'degre', 'accountancybachelor', 'degre', 'major', 'account', 'bachelor', 'art', 'bachelor', 'bachelor', 'degre', 'bachelor', 'scienc', 'food', 'technolog', 'bachelor', 'scienc', 'b', 'doctor', 'veterinari', 'medicin', 'bachelor', 'scienc', 'b', 'mathemat', 'bachelor', 'art', 'b', 'busi', 'associ', 'scienc', 'bachelor', 'scienc', 'bachelor', 'master', 'educ', 'master', 'bachelor', 'art', 'b', 'bachelor', 'scienc', 'bachelor', 'bachelor', 'art', 'b', 'bachelor', 'appli', 'scienc', 'basc', 'bachelor', 'artspost', 'graduat', 'b', 'bachelor', 'appli', 'scienc', 'basc', 'bachelor', 'art', 'bachelor', 'master', 'public', 'administr', 'master', 'bachelor', 'technolog', 'b', 'tech', 'bachelor', 'degreebachelor', 'visual', 'effect', 'anim', 'bachelor', 'art', 'b', 'bachelor', 'art', 'b', 'bachelor', 'degreetefl', 'certificatetefl', 'certif', 'bachelor', 'scienc', 'b', 'bachelor', 'scienc', 'b']\n"
     ]
    }
   ],
   "source": [
    "from nltk.tokenize import word_tokenize\n",
    "from nltk.corpus import stopwords\n",
    "from nltk.stem.porter import PorterStemmer\n",
    "import string\n",
    "\n",
    "# tokenize\n",
    "text = edu_nlp_train.words.str.cat(sep=' ')\n",
    "tokens = word_tokenize(text)\n",
    "\n",
    "# remove punctuation from each word\n",
    "table = str.maketrans('', '', string.punctuation)\n",
    "stripped = [w.translate(table) for w in tokens]\n",
    "\n",
    "# remove remaining tokens that are not alphabetic\n",
    "words = [word for word in stripped if word.isalpha()]\n",
    "\n",
    "# filter out stop words\n",
    "stop_words = set(stopwords.words('english'))\n",
    "words = [w for w in words if not w in stop_words]\n",
    "#print(words[:100])\n",
    "\n",
    "# stemming of words\n",
    "porter = PorterStemmer()\n",
    "stemmed = [porter.stem(word) for word in words]\n",
    "print(stemmed[:100])"
   ]
  },
  {
   "cell_type": "code",
   "execution_count": 65,
   "metadata": {},
   "outputs": [
    {
     "name": "stdout",
     "output_type": "stream",
     "text": [
      "('bachelor', 1)\n",
      "('scienc', 2)\n",
      "('b', 3)\n",
      "('degre', 4)\n",
      "('art', 5)\n",
      "('master', 6)\n",
      "('busi', 7)\n",
      "('administr', 8)\n",
      "('degreemast', 9)\n",
      "('engin', 10)\n",
      "===================\n",
      "('bachelor', 23766)\n",
      "('scienc', 7603)\n",
      "('b', 6491)\n",
      "('sc', 887)\n",
      "('ed', 176)\n",
      "('hhxbachelor', 2)\n",
      "('master', 3593)\n",
      "('cand', 1)\n",
      "('mag', 5)\n",
      "('degre', 6448)\n"
     ]
    }
   ],
   "source": [
    "# we only use the first 500 words to get rid of the strange major like \"god\"\n",
    "max_words = 200\n",
    "max_len = 9\n",
    "tok = Tokenizer(num_words=max_words)\n",
    "tok.fit_on_texts(stemmed)\n",
    "\n",
    "# check the encoding of each word\n",
    "for ii,iterm in enumerate(tok.word_index.items()):\n",
    "    if ii < 10:\n",
    "        print(iterm)\n",
    "    else:\n",
    "        break\n",
    "\n",
    "print(\"===================\")\n",
    "\n",
    "# check the frequency of each word\n",
    "for ii,iterm in enumerate(tok.word_counts.items()):\n",
    "    if ii < 10:\n",
    "        print(iterm)\n",
    "    else:\n",
    "        break"
   ]
  },
  {
   "cell_type": "markdown",
   "metadata": {},
   "source": [
    "## 7.10. Create the vectors with the encodings and with same length"
   ]
  },
  {
   "cell_type": "code",
   "execution_count": 66,
   "metadata": {},
   "outputs": [
    {
     "name": "stdout",
     "output_type": "stream",
     "text": [
      "(1284660, 9)\n",
      "(428220, 9)\n",
      "(428220, 9)\n"
     ]
    }
   ],
   "source": [
    "# to encoding\n",
    "train_seq = tok.texts_to_sequences(train_X.words)\n",
    "val_seq = tok.texts_to_sequences(val_X.words)\n",
    "test_seq = tok.texts_to_sequences(test_X.words)\n",
    "# adjust length\n",
    "train_seq_mat = sequence.pad_sequences(train_seq, maxlen=max_len)\n",
    "val_seq_mat = sequence.pad_sequences(val_seq, maxlen=max_len)\n",
    "test_seq_mat = sequence.pad_sequences(test_seq, maxlen=max_len)\n",
    "\n",
    "print(train_seq_mat.shape)\n",
    "print(val_seq_mat.shape)\n",
    "print(test_seq_mat.shape)"
   ]
  },
  {
   "cell_type": "markdown",
   "metadata": {},
   "source": [
    "## 7.11. Build LSTM & Train"
   ]
  },
  {
   "cell_type": "code",
   "execution_count": 67,
   "metadata": {},
   "outputs": [
    {
     "name": "stdout",
     "output_type": "stream",
     "text": [
      "Model: \"model\"\n",
      "_________________________________________________________________\n",
      " Layer (type)                Output Shape              Param #   \n",
      "=================================================================\n",
      " inputs (InputLayer)         [(None, 9)]               0         \n",
      "                                                                 \n",
      " embedding (Embedding)       (None, 9, 256)            51456     \n",
      "                                                                 \n",
      " lstm (LSTM)                 (None, 256)               525312    \n",
      "                                                                 \n",
      " FC1 (Dense)                 (None, 256)               65792     \n",
      "                                                                 \n",
      " dropout (Dropout)           (None, 256)               0         \n",
      "                                                                 \n",
      " FC2 (Dense)                 (None, 7)                 1799      \n",
      "                                                                 \n",
      "=================================================================\n",
      "Total params: 644,359\n",
      "Trainable params: 644,359\n",
      "Non-trainable params: 0\n",
      "_________________________________________________________________\n",
      "None\n"
     ]
    }
   ],
   "source": [
    "# define LSTM\n",
    "inputs = Input(name='inputs', shape=[max_len])\n",
    "# Embedding (size of token, size of batch, size of words)\n",
    "layer = Embedding(max_words + 1, 256, input_length=max_len)(inputs)\n",
    "layer = LSTM(256)(layer)\n",
    "layer = Dense(256, activation=\"relu\", name=\"FC1\")(layer)\n",
    "layer = Dropout(0.5)(layer)\n",
    "layer = Dense(7, activation=\"softmax\", name=\"FC2\")(layer)\n",
    "model = Model(inputs=inputs, outputs=layer)\n",
    "print(model.summary())\n",
    "model.compile(loss=\"categorical_crossentropy\", optimizer=Nadam(), metrics=[\"accuracy\"])"
   ]
  },
  {
   "cell_type": "code",
   "execution_count": 68,
   "metadata": {},
   "outputs": [
    {
     "name": "stdout",
     "output_type": "stream",
     "text": [
      "Epoch 1/10\n",
      "10037/10037 [==============================] - 224s 22ms/step - loss: 1.6908 - accuracy: 0.2905 - val_loss: 1.6198 - val_accuracy: 0.3166\n",
      "Epoch 2/10\n",
      "10037/10037 [==============================] - 238s 24ms/step - loss: 1.6199 - accuracy: 0.3164 - val_loss: 1.6058 - val_accuracy: 0.3206\n"
     ]
    }
   ],
   "source": [
    "model_fit = model.fit(train_seq_mat, train_y, batch_size=128, epochs=10,\n",
    "                      validation_data=(val_seq_mat,val_y),\n",
    "                      callbacks=[EarlyStopping(monitor='val_loss', min_delta=0.0001)] # when val-loss stop raising, stop the training\n",
    "                     )"
   ]
  },
  {
   "cell_type": "markdown",
   "metadata": {},
   "source": [
    "## 7.12. Predict on Test Set & Visualiztions"
   ]
  },
  {
   "cell_type": "code",
   "execution_count": 69,
   "metadata": {},
   "outputs": [
    {
     "data": {
      "image/png": "[encoded data removed]",
      "text/plain": [
       "<Figure size 576x576 with 1 Axes>"
      ]
     },
     "metadata": {
      "needs_background": "light"
     },
     "output_type": "display_data"
    },
    {
     "name": "stdout",
     "output_type": "stream",
     "text": [
      "              precision    recall  f1-score   support\n",
      "\n",
      "           0       0.29      0.61      0.40      9481\n",
      "           1       0.24      0.42      0.30     50143\n",
      "           2       0.78      0.27      0.40    291332\n",
      "           3       0.26      0.37      0.31     64220\n",
      "           4       0.08      0.70      0.14      5618\n",
      "           5       0.07      0.74      0.13      3792\n",
      "           6       0.07      0.77      0.13      3634\n",
      "\n",
      "    accuracy                           0.32    428220\n",
      "   macro avg       0.26      0.55      0.26    428220\n",
      "weighted avg       0.61      0.32      0.37    428220\n",
      "\n"
     ]
    }
   ],
   "source": [
    "# predict on test\n",
    "test_pre = model.predict(test_seq_mat)\n",
    "\n",
    "# calculate confusion matrix\n",
    "confm = metrics.confusion_matrix(np.argmax(test_pre,axis=1),np.argmax(test_y,axis=1))\n",
    "# visualization\n",
    "Labname = [\"18-24\",\"24-30\",\"30-36\",\"36-42\",\"42-48\",\"48-54\",\"54-60\"]\n",
    "plt.figure(figsize=(8,8))\n",
    "sns.heatmap(confm.T, square=True, annot=True,\n",
    "            fmt='d', cbar=False, linewidths=.8,\n",
    "            cmap=\"YlGnBu\")\n",
    "plt.xlabel('True label', size = 14)\n",
    "plt.ylabel('Predicted label', size = 14)\n",
    "plt.xticks(np.arange(7)+0.5, Labname, size = 12)\n",
    "plt.yticks(np.arange(7)+0.3, Labname, size = 12)\n",
    "plt.show()\n",
    "\n",
    "\n",
    "print(metrics.classification_report(np.argmax(test_pre,axis=1),np.argmax(test_y,axis=1)))"
   ]
  },
  {
   "cell_type": "markdown",
   "metadata": {},
   "source": [
    "# 8. Exploration: NLP on Position 'jobtitle'"
   ]
  },
  {
   "cell_type": "markdown",
   "metadata": {},
   "source": [
    "The clearing process of 'jobtitle' is similar to 'major' in education in majority.\n",
    "\n",
    "However, an interesting thing is, there are strange '_|_' in the text. Let's pick it up and find out what's that for."
   ]
  },
  {
   "cell_type": "markdown",
   "metadata": {},
   "source": [
    "Unluckily, the NLP outcome is pretty bad (around 0.3 accuracy). However, the model based on job description is much better than the model based on education backgroud.\n",
    "\n",
    "Here, same as in the education background, I present the process, and show what could be if we have more data."
   ]
  },
  {
   "cell_type": "markdown",
   "metadata": {},
   "source": [
    "## 8.1. Data Clean"
   ]
  },
  {
   "cell_type": "code",
   "execution_count": 70,
   "metadata": {},
   "outputs": [],
   "source": [
    "# pick the major text data\n",
    "titles = position_new[['user_id', 'jobtitle', 'startdate']].copy()\n",
    "titles[['title','industry']] = titles.jobtitle.str.split(\"_\\|_\", 1, expand=True)"
   ]
  },
  {
   "cell_type": "code",
   "execution_count": 71,
   "metadata": {},
   "outputs": [
    {
     "name": "stdout",
     "output_type": "stream",
     "text": [
      "147\n"
     ]
    },
    {
     "data": {
      "text/plain": [
       "<AxesSubplot:>"
      ]
     },
     "execution_count": 71,
     "metadata": {},
     "output_type": "execute_result"
    },
    {
     "data": {
      "image/png": "[encoded data removed]",
      "text/plain": [
       "<Figure size 1584x360 with 1 Axes>"
      ]
     },
     "metadata": {
      "needs_background": "light"
     },
     "output_type": "display_data"
    }
   ],
   "source": [
    "words_count = titles.industry.str.split(expand=True).stack().value_counts()\n",
    "print(len(words_count))\n",
    "#print(top10words)\n",
    "top10words = words_count[:10]\n",
    "plt.figure(figsize=(22,5))\n",
    "sns.barplot(top10words.index, top10words)"
   ]
  },
  {
   "cell_type": "markdown",
   "metadata": {},
   "source": [
    "Industry information has little value on year prediction. The thing that values are the actual titles.\n",
    "\n",
    "So we can ignore the industry information, and focus on the titles."
   ]
  },
  {
   "cell_type": "code",
   "execution_count": 72,
   "metadata": {},
   "outputs": [],
   "source": [
    "titles['title'] = titles['title'].str.lower()\n",
    "titles['title'] = titles['title'].str.replace('[^a-zA-Z\\s]', ' ')\n",
    "titles = titles.drop(['jobtitle', 'industry'], axis=1)"
   ]
  },
  {
   "cell_type": "code",
   "execution_count": 73,
   "metadata": {},
   "outputs": [],
   "source": [
    "train_id = completes['user_id'].copy()\n",
    "job_nlp_train = titles[titles['user_id'].isin(train_id)]\n",
    "job_nlp_train.sort_values(['user_id', 'startdate'], inplace=True)\n",
    "job_nlp_train = job_nlp_train.copy().drop(['startdate'], axis=1)\n",
    "job_nlp_train.dropna(inplace=True)\n",
    "job_nlp_train['words'] = job_nlp_train.groupby('user_id').transform(lambda x: ''.join(x))\n",
    "job_nlp_train.drop_duplicates(subset='user_id', keep='first', inplace=True)"
   ]
  },
  {
   "cell_type": "code",
   "execution_count": 74,
   "metadata": {},
   "outputs": [],
   "source": [
    "job_nlp_train['totalwords'] = job_nlp_train['words'].str.split().str.len()\n",
    "#job_nlp_train"
   ]
  },
  {
   "cell_type": "markdown",
   "metadata": {},
   "source": [
    "## 8.2. Check the results of cleaning"
   ]
  },
  {
   "cell_type": "code",
   "execution_count": 75,
   "metadata": {},
   "outputs": [
    {
     "name": "stdout",
     "output_type": "stream",
     "text": [
      "52324\n"
     ]
    },
    {
     "data": {
      "text/plain": [
       "<AxesSubplot:>"
      ]
     },
     "execution_count": 75,
     "metadata": {},
     "output_type": "execute_result"
    },
    {
     "data": {
      "image/png": "[encoded data removed]",
      "text/plain": [
       "<Figure size 1008x360 with 1 Axes>"
      ]
     },
     "metadata": {
      "needs_background": "light"
     },
     "output_type": "display_data"
    }
   ],
   "source": [
    "words_count = job_nlp_train.words.str.split(expand=True).stack().value_counts()\n",
    "print(len(words_count))\n",
    "#print(top10words)\n",
    "top10words = words_count[:10]\n",
    "plt.figure(figsize=(14,5))\n",
    "sns.barplot(top10words.index, top10words)"
   ]
  },
  {
   "cell_type": "code",
   "execution_count": 76,
   "metadata": {},
   "outputs": [
    {
     "name": "stdout",
     "output_type": "stream",
     "text": [
      "count    22563.000000\n",
      "mean         9.229890\n",
      "std          8.109826\n",
      "min          0.000000\n",
      "25%          4.000000\n",
      "50%          7.000000\n",
      "75%         12.000000\n",
      "max        379.000000\n",
      "Name: totalwords, dtype: float64\n"
     ]
    },
    {
     "data": {
      "text/plain": [
       "Text(0.5, 1.0, 'Majors Words Conbined By Startdate')"
      ]
     },
     "execution_count": 76,
     "metadata": {},
     "output_type": "execute_result"
    },
    {
     "data": {
      "image/png": "[encoded data removed]",
      "text/plain": [
       "<Figure size 576x360 with 1 Axes>"
      ]
     },
     "metadata": {
      "needs_background": "light"
     },
     "output_type": "display_data"
    }
   ],
   "source": [
    "print(job_nlp_train.totalwords.describe())\n",
    "plt.figure(figsize=(8, 5))\n",
    "sns.histplot(job_nlp_train.totalwords)\n",
    "plt.xlabel(\"Length of words\")\n",
    "plt.ylabel(\"Freq\")\n",
    "plt.title(\"Majors Words Conbined By Startdate\")"
   ]
  },
  {
   "cell_type": "code",
   "execution_count": 77,
   "metadata": {},
   "outputs": [],
   "source": [
    "# join the training set\n",
    "labels = completes[['user_id', 'label']]\n",
    "job_nlp_train = pd.merge(job_nlp_train, labels, left_on='user_id', right_on='user_id', how='left')"
   ]
  },
  {
   "cell_type": "markdown",
   "metadata": {},
   "source": [
    "## 8.3. Draw some train/val/test"
   ]
  },
  {
   "cell_type": "code",
   "execution_count": 78,
   "metadata": {},
   "outputs": [
    {
     "name": "stdout",
     "output_type": "stream",
     "text": [
      "Counter({3: 500000, 4: 449300, 2: 443200, 5: 248600, 6: 200000, 7: 200000, 1: 100000})\n"
     ]
    }
   ],
   "source": [
    "from sklearn.model_selection import train_test_split\n",
    "\n",
    "# define dataset and summarize class distribution\n",
    "X, y = job_nlp_train[['user_id', 'words']], job_nlp_train.iloc[:, -1]\n",
    "#print(Counter(y))\n",
    "#X = StandardScaler().fit_transform(X)\n",
    "#print(X)\n",
    "\n",
    "# define over/under sampling strategy\n",
    "over_stra = {1: 1000, 6: 2000, 7: 2000}\n",
    "under_stra = {3: 5000}\n",
    "over = RandomOverSampler(sampling_strategy=over_stra)\n",
    "under = RandomUnderSampler(sampling_strategy=under_stra)\n",
    "\n",
    "# fit and apply the transform\n",
    "X, y = over.fit_resample(X, y)\n",
    "#print(Counter(y))\n",
    "X, y = under.fit_resample(X, y)\n",
    "#print(Counter(y))\n",
    "\n",
    "# increase the data volumn\n",
    "over_stra = {1: 100000, 2: 443200, 3: 500000, 4: 449300, 5: 248600, 6: 200000, 7: 200000}\n",
    "over = RandomOverSampler(sampling_strategy=over_stra)\n",
    "X, y = over.fit_resample(X, y)\n",
    "print(Counter(y))\n",
    "\n",
    "# split to trian/val/test\n",
    "train_X, test_X, train_y, test_y = train_test_split(X, y, test_size=0.2, random_state=1)\n",
    "train_X, val_X, train_y, val_y = train_test_split(train_X, train_y, test_size=0.25, random_state=1)"
   ]
  },
  {
   "cell_type": "markdown",
   "metadata": {},
   "source": [
    "## 8.4. Encoding labels"
   ]
  },
  {
   "cell_type": "code",
   "execution_count": 79,
   "metadata": {},
   "outputs": [],
   "source": [
    "# reshape\n",
    "le = LabelEncoder()\n",
    "train_y = le.fit_transform(train_y).reshape(-1,1)\n",
    "val_y = le.transform(val_y).reshape(-1,1)\n",
    "test_y = le.transform(test_y).reshape(-1,1)\n",
    "\n",
    "# one-hot\n",
    "ohe = OneHotEncoder()\n",
    "train_y = ohe.fit_transform(train_y).toarray()\n",
    "val_y = ohe.transform(val_y).toarray()\n",
    "test_y = ohe.transform(test_y).toarray()"
   ]
  },
  {
   "cell_type": "markdown",
   "metadata": {},
   "source": [
    "## 8.5. Tokenization"
   ]
  },
  {
   "cell_type": "code",
   "execution_count": 80,
   "metadata": {},
   "outputs": [
    {
     "name": "stdout",
     "output_type": "stream",
     "text": [
      "['center', 'manag', 'faculti', 'sport', 'reportermanagereditor', 'respons', 'sale', 'marketingfilm', 'critic', 'featur', 'writergraph', 'report', 'group', 'leaderair', 'editornew', 'editor', 'redakt', 'reditor', 'redakt', 'r', 'redaktionssekret', 'rredaktionschef', 'chief', 'editor', 'tv', 'newsnyhedschef', 'head', 'newsadvisor', 'r', 'dgiversenior', 'advisor', 'gener', 'servic', 'telleraccount', 'assistantservic', 'offic', 'junior', 'assist', 'managermarket', 'offic', 'junior', 'assist', 'managerrelationship', 'offic', 'call', 'center', 'repres', 'residenti', 'assist', 'commun', 'advisorbid', 'dolphin', 'mentorvolunt', 'tutorcorp', 'member', 'commissari', 'manag', 'andov', 'annual', 'fund', 'student', 'callerdorm', 'cleanup', 'crewpet', 'nurs', 'assistanttenni', 'instructorinternchalleng', 'unlimit', 'volunteersmal', 'anim', 'emerg', 'surgeri', 'night', 'technician', 'mathemat', 'teacherag', 'classroom', 'teacherinstruct', 'facilit', 'assist', 'directordean', 'administr', 'gastoniaearli', 'educ', 'program', 'specialistearli', 'learn', 'coordin', 'chemic', 'oper', 'specialisthelicopt', 'loadmastercustom', 'servic', 'associ', 'custom', 'servic', 'representativeinterndepart', 'supervisorclaim', 'investig', 'agent']\n"
     ]
    }
   ],
   "source": [
    "from nltk.tokenize import word_tokenize\n",
    "from nltk.corpus import stopwords\n",
    "from nltk.stem.porter import PorterStemmer\n",
    "import string\n",
    "\n",
    "# tokenize\n",
    "text = job_nlp_train.words.str.cat(sep=' ')\n",
    "tokens = word_tokenize(text)\n",
    "\n",
    "# remove punctuation from each word\n",
    "table = str.maketrans('', '', string.punctuation)\n",
    "stripped = [w.translate(table) for w in tokens]\n",
    "\n",
    "# remove remaining tokens that are not alphabetic\n",
    "words = [word for word in stripped if word.isalpha()]\n",
    "\n",
    "# filter out stop words\n",
    "stop_words = set(stopwords.words('english'))\n",
    "words = [w for w in words if not w in stop_words]\n",
    "#print(words[:100])\n",
    "\n",
    "# stemming of words\n",
    "porter = PorterStemmer()\n",
    "stemmed = [porter.stem(word) for word in words]\n",
    "print(stemmed[:100])"
   ]
  },
  {
   "cell_type": "code",
   "execution_count": 81,
   "metadata": {},
   "outputs": [
    {
     "name": "stdout",
     "output_type": "stream",
     "text": [
      "('manag', 1)\n",
      "('engin', 2)\n",
      "('sale', 3)\n",
      "('assist', 4)\n",
      "('servic', 5)\n",
      "('develop', 6)\n",
      "('market', 7)\n",
      "('account', 8)\n",
      "('director', 9)\n",
      "('project', 10)\n",
      "===================\n",
      "('center', 254)\n",
      "('manag', 6727)\n",
      "('faculti', 62)\n",
      "('sport', 124)\n",
      "('reportermanagereditor', 1)\n",
      "('respons', 58)\n",
      "('sale', 2637)\n",
      "('marketingfilm', 1)\n",
      "('critic', 18)\n",
      "('featur', 18)\n"
     ]
    }
   ],
   "source": [
    "# we only use the first 500 words to get rid of the strange major like \"god\"\n",
    "max_words = 2000\n",
    "max_len = 20\n",
    "tok = Tokenizer(num_words=max_words)\n",
    "tok.fit_on_texts(stemmed)\n",
    "\n",
    "# check the encoding of each word\n",
    "for ii,iterm in enumerate(tok.word_index.items()):\n",
    "    if ii < 10:\n",
    "        print(iterm)\n",
    "    else:\n",
    "        break\n",
    "\n",
    "print(\"===================\")\n",
    "\n",
    "# check the frequency of each word\n",
    "for ii,iterm in enumerate(tok.word_counts.items()):\n",
    "    if ii < 10:\n",
    "        print(iterm)\n",
    "    else:\n",
    "        break"
   ]
  },
  {
   "cell_type": "markdown",
   "metadata": {},
   "source": [
    "## 8.6. Create the vectors with the encodings and with same length"
   ]
  },
  {
   "cell_type": "code",
   "execution_count": 82,
   "metadata": {},
   "outputs": [
    {
     "name": "stdout",
     "output_type": "stream",
     "text": [
      "(1284660, 20)\n",
      "(428220, 20)\n",
      "(428220, 20)\n"
     ]
    }
   ],
   "source": [
    "# to encoding\n",
    "train_seq = tok.texts_to_sequences(train_X.words)\n",
    "val_seq = tok.texts_to_sequences(val_X.words)\n",
    "test_seq = tok.texts_to_sequences(test_X.words)\n",
    "\n",
    "# adjust length\n",
    "train_seq_mat = sequence.pad_sequences(train_seq, maxlen=max_len)\n",
    "val_seq_mat = sequence.pad_sequences(val_seq, maxlen=max_len)\n",
    "test_seq_mat = sequence.pad_sequences(test_seq, maxlen=max_len)\n",
    "\n",
    "# show results\n",
    "print(train_seq_mat.shape)\n",
    "print(val_seq_mat.shape)\n",
    "print(test_seq_mat.shape)"
   ]
  },
  {
   "cell_type": "markdown",
   "metadata": {},
   "source": [
    "## 8.7. Build LSTM & Train"
   ]
  },
  {
   "cell_type": "code",
   "execution_count": 83,
   "metadata": {},
   "outputs": [
    {
     "name": "stdout",
     "output_type": "stream",
     "text": [
      "Model: \"model_1\"\n",
      "_________________________________________________________________\n",
      " Layer (type)                Output Shape              Param #   \n",
      "=================================================================\n",
      " inputs (InputLayer)         [(None, 20)]              0         \n",
      "                                                                 \n",
      " embedding_1 (Embedding)     (None, 20, 256)           512256    \n",
      "                                                                 \n",
      " lstm_1 (LSTM)               (None, 256)               525312    \n",
      "                                                                 \n",
      " FC1 (Dense)                 (None, 256)               65792     \n",
      "                                                                 \n",
      " dropout_1 (Dropout)         (None, 256)               0         \n",
      "                                                                 \n",
      " FC2 (Dense)                 (None, 7)                 1799      \n",
      "                                                                 \n",
      "=================================================================\n",
      "Total params: 1,105,159\n",
      "Trainable params: 1,105,159\n",
      "Non-trainable params: 0\n",
      "_________________________________________________________________\n",
      "None\n"
     ]
    }
   ],
   "source": [
    "# define LSTM\n",
    "inputs = Input(name='inputs', shape=[max_len])\n",
    "\n",
    "# Embedding (size of token, size of batch, size of words)\n",
    "layer = Embedding(max_words + 1, 256, input_length=max_len)(inputs)\n",
    "layer = LSTM(256)(layer)\n",
    "layer = Dense(256, activation=\"relu\", name=\"FC1\")(layer)\n",
    "layer = Dropout(0.5)(layer)\n",
    "layer = Dense(7, activation=\"softmax\", name=\"FC2\")(layer)\n",
    "model = Model(inputs=inputs, outputs=layer)\n",
    "print(model.summary())\n",
    "model.compile(loss=\"categorical_crossentropy\", optimizer=Nadam(), metrics=[\"accuracy\"])"
   ]
  },
  {
   "cell_type": "code",
   "execution_count": 84,
   "metadata": {},
   "outputs": [
    {
     "name": "stdout",
     "output_type": "stream",
     "text": [
      "Epoch 1/10\n",
      "10037/10037 [==============================] - 540s 54ms/step - loss: 1.0095 - accuracy: 0.5843 - val_loss: 0.7035 - val_accuracy: 0.7018\n",
      "Epoch 2/10\n",
      "10037/10037 [==============================] - 1133s 113ms/step - loss: 0.7010 - accuracy: 0.7008 - val_loss: 0.6769 - val_accuracy: 0.7077\n"
     ]
    }
   ],
   "source": [
    "model_fit = model.fit(train_seq_mat, train_y, batch_size=128, epochs=10,\n",
    "                      validation_data=(val_seq_mat,val_y),\n",
    "                      callbacks=[EarlyStopping(monitor='val_loss', min_delta=0.0001)] # when val-loss stop raising, stop the training\n",
    "                     )"
   ]
  },
  {
   "cell_type": "markdown",
   "metadata": {},
   "source": [
    "## 8.8. Predict on Test Set"
   ]
  },
  {
   "cell_type": "code",
   "execution_count": 85,
   "metadata": {},
   "outputs": [
    {
     "data": {
      "image/png": "[encoded data removed]",
      "text/plain": [
       "<Figure size 576x576 with 1 Axes>"
      ]
     },
     "metadata": {
      "needs_background": "light"
     },
     "output_type": "display_data"
    },
    {
     "name": "stdout",
     "output_type": "stream",
     "text": [
      "              precision    recall  f1-score   support\n",
      "\n",
      "           0       0.74      0.85      0.79     17291\n",
      "           1       0.67      0.80      0.73     74072\n",
      "           2       0.85      0.52      0.64    164047\n",
      "           3       0.69      0.77      0.73     80657\n",
      "           4       0.64      0.93      0.76     34535\n",
      "           5       0.62      0.91      0.74     27496\n",
      "           6       0.62      0.81      0.70     30122\n",
      "\n",
      "    accuracy                           0.71    428220\n",
      "   macro avg       0.69      0.80      0.73    428220\n",
      "weighted avg       0.74      0.71      0.70    428220\n",
      "\n"
     ]
    }
   ],
   "source": [
    "# predict on test\n",
    "test_pre = model.predict(test_seq_mat)\n",
    "\n",
    "# calculate confusion matrix\n",
    "confm = metrics.confusion_matrix(np.argmax(test_pre,axis=1),np.argmax(test_y,axis=1))\n",
    "\n",
    "# visualization\n",
    "Labname = [\"18-24\",\"24-30\",\"30-36\",\"36-42\",\"42-48\",\"48-54\",\"54-60\"]\n",
    "plt.figure(figsize=(8,8))\n",
    "sns.heatmap(confm.T, square=True, annot=True,\n",
    "            fmt='d', cbar=False, linewidths=.8,\n",
    "            cmap=\"YlGnBu\")\n",
    "plt.xlabel('True label', size = 14)\n",
    "plt.ylabel('Predicted label', size = 14)\n",
    "plt.xticks(np.arange(7)+0.5, Labname, size = 12)\n",
    "plt.yticks(np.arange(7)+0.3, Labname, size = 12)\n",
    "plt.show()\n",
    "\n",
    "print(metrics.classification_report(np.argmax(test_pre,axis=1),np.argmax(test_y,axis=1)))"
   ]
  },
  {
   "cell_type": "markdown",
   "metadata": {},
   "source": [
    "# 9. Final Prediction"
   ]
  },
  {
   "cell_type": "markdown",
   "metadata": {},
   "source": [
    "Since we have shown the superiority of our random forest model comparing with any other model, we can use the results from RF as our final results.\n",
    "\n",
    "A problem remains: in the 1st round of data cleaning, we drop some row with very little infromation. What should we do to them?\n",
    "\n",
    "There are 2 possible way:\n",
    "1. Impute by some value;\n",
    "2. Leave it be.\n",
    "\n",
    "Since I am not sure if this project allows the prediciont to be \"don't know\", and we do have a imputing reason (impute by the mid, though it's a little bit weak), I choose to impute."
   ]
  },
  {
   "cell_type": "markdown",
   "metadata": {},
   "source": [
    "## 9.1. Output results"
   ]
  },
  {
   "cell_type": "code",
   "execution_count": 86,
   "metadata": {},
   "outputs": [],
   "source": [
    "def age_label(x):\n",
    "    if x == 1:\n",
    "        return \"18-24\"\n",
    "    if x == 2:\n",
    "        return \"24-30\"\n",
    "    if x == 3:\n",
    "        return \"30-36\"\n",
    "    if x == 4:\n",
    "        return \"36-42\"\n",
    "    if x == 5:\n",
    "        return \"42-48\"\n",
    "    if x == 6:\n",
    "        return \"48-54\"\n",
    "    if x == 7:\n",
    "        return \"54-60\""
   ]
  },
  {
   "cell_type": "code",
   "execution_count": 87,
   "metadata": {},
   "outputs": [],
   "source": [
    "predicted_id = linkedin_impute['user_id'].copy()\n",
    "d = {'user_id': predicted_id, 'group': rf_predict}\n",
    "res = pd.DataFrame(data=d)\n",
    "\n",
    "res = res.merge(completes[['user_id', 'label']], left_on='user_id', right_on='user_id', how='left')\n",
    "\n",
    "res['true_or_predicted'] = res.label.notna()\n",
    "res['true_or_predicted'] = res['true_or_predicted'].astype(str)\n",
    "res['true_or_predicted'] = res['true_or_predicted'].replace('False', 'predicted')\n",
    "res['true_or_predicted'] = res['true_or_predicted'].replace('True', 'true')\n",
    "\n",
    "res.label[res.label.isna()] = res.group\n",
    "res.label = res.label.astype(int)\n",
    "res['age'] = res.group.apply(lambda x: age_label(x))\n",
    "res.drop(columns=['group', 'label'], inplace=True)\n",
    "res = res.sort_values(['true_or_predicted', 'age'])"
   ]
  },
  {
   "cell_type": "markdown",
   "metadata": {},
   "source": [
    "## 9.2. Visualization"
   ]
  },
  {
   "cell_type": "code",
   "execution_count": 88,
   "metadata": {},
   "outputs": [
    {
     "data": {
      "text/plain": [
       "<AxesSubplot:ylabel='age'>"
      ]
     },
     "execution_count": 88,
     "metadata": {},
     "output_type": "execute_result"
    },
    {
     "data": {
      "image/png": "[encoded data removed]",
      "text/plain": [
       "<Figure size 1008x360 with 1 Axes>"
      ]
     },
     "metadata": {
      "needs_background": "light"
     },
     "output_type": "display_data"
    }
   ],
   "source": [
    "# visualization\n",
    "words_count = res.age.value_counts()\n",
    "plt.figure(figsize=(14,5))\n",
    "sns.barplot(words_count.index, words_count)"
   ]
  },
  {
   "cell_type": "code",
   "execution_count": 89,
   "metadata": {},
   "outputs": [],
   "source": [
    "# output the results\n",
    "res.to_csv('res.csv', index=False)"
   ]
  },
  {
   "cell_type": "markdown",
   "metadata": {},
   "source": [
    "# Future Works"
   ]
  },
  {
   "cell_type": "markdown",
   "metadata": {},
   "source": [
    "1. For original data\n",
    "   1. We can increase the amount of data to increase the possible prediction outcomes of all our models;\n",
    "   2. We can increase the number of original features (like adding a column in education indicating the language) to further pre-process our text;\n",
    "   3. We can use more detailed 1st-round cleaning strategies to clean our data.\n",
    "2. For trianing set\n",
    "   1. We can try different numbers of training sets to build our models;\n",
    "   2. We can try different selecting method for \"ground truth\";\n",
    "   3. We can combine different \"ground truth\" to train our models.\n",
    "3. For random forest\n",
    "   1. We can try to eliminate some of the features before we throw them directly into the model;\n",
    "   2. We can use a denser grid-search in optimization;\n",
    "   3. We can use use a combination of different classification models on the same training set.\n",
    "4. For NLP models\n",
    "   1. We should translate the text other than English (in this draft it's limited by computational power and API efficiency);\n",
    "   2. We can have more detailed text cleaning strategies (like specification of useless text, such as 'god' as 'major');\n",
    "   3. We can make our network more complex;\n",
    "   4. We can use improved version of LSTM, such as BERT/Q-BERT;\n",
    "5. For final predictions\n",
    "   1. We **should combine the predictions from our models based on numbers (such as random forest) and our models based on text (such as LSTM)**;\n",
    "   2. We should have a better solution to the users that we really can not predict anything (like just drop them);\n",
    "   3. We should have some test on the age group definition (like, set the intervals to 4, set the intervals between 24-42 denser, etc.)；\n",
    "   4. We should have a better strategy to deal with the minor group (like 18-24)."
   ]
  }
 ],
 "metadata": {
  "interpreter": {
   "hash": "fbd4b20949048d9c4245e46076a349f80a7f4045f20b2d600aede871c201d63b"
  },
  "kernelspec": {
   "display_name": "Python 3.9.7 ('base')",
   "language": "python",
   "name": "python3"
  },
  "language_info": {
   "codemirror_mode": {
    "name": "ipython",
    "version": 3
   },
   "file_extension": ".py",
   "mimetype": "text/x-python",
   "name": "python",
   "nbconvert_exporter": "python",
   "pygments_lexer": "ipython3",
   "version": "3.9.7"
  },
  "orig_nbformat": 4
 },
 "nbformat": 4,
 "nbformat_minor": 2
}
